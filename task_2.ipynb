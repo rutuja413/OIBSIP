{
 "cells": [
  {
   "cell_type": "code",
   "execution_count": 1,
   "id": "505f4158",
   "metadata": {},
   "outputs": [],
   "source": [
    "import numpy as np\n",
    "import pandas as pd\n",
    "import matplotlib.pyplot as plt\n",
    "import seaborn as sns"
   ]
  },
  {
   "cell_type": "code",
   "execution_count": 3,
   "id": "53f5a1cd",
   "metadata": {},
   "outputs": [],
   "source": [
    "df = pd.read_csv('Unemployment in India.csv')"
   ]
  },
  {
   "cell_type": "code",
   "execution_count": 4,
   "id": "03b64bad",
   "metadata": {},
   "outputs": [
    {
     "data": {
      "text/html": [
       "<div>\n",
       "<style scoped>\n",
       "    .dataframe tbody tr th:only-of-type {\n",
       "        vertical-align: middle;\n",
       "    }\n",
       "\n",
       "    .dataframe tbody tr th {\n",
       "        vertical-align: top;\n",
       "    }\n",
       "\n",
       "    .dataframe thead th {\n",
       "        text-align: right;\n",
       "    }\n",
       "</style>\n",
       "<table border=\"1\" class=\"dataframe\">\n",
       "  <thead>\n",
       "    <tr style=\"text-align: right;\">\n",
       "      <th></th>\n",
       "      <th>Region</th>\n",
       "      <th>Date</th>\n",
       "      <th>Frequency</th>\n",
       "      <th>Estimated Unemployment Rate (%)</th>\n",
       "      <th>Estimated Employed</th>\n",
       "      <th>Estimated Labour Participation Rate (%)</th>\n",
       "      <th>Area</th>\n",
       "    </tr>\n",
       "  </thead>\n",
       "  <tbody>\n",
       "    <tr>\n",
       "      <th>0</th>\n",
       "      <td>Andhra Pradesh</td>\n",
       "      <td>31-05-2019</td>\n",
       "      <td>Monthly</td>\n",
       "      <td>3.65</td>\n",
       "      <td>11999139.0</td>\n",
       "      <td>43.24</td>\n",
       "      <td>Rural</td>\n",
       "    </tr>\n",
       "    <tr>\n",
       "      <th>1</th>\n",
       "      <td>Andhra Pradesh</td>\n",
       "      <td>30-06-2019</td>\n",
       "      <td>Monthly</td>\n",
       "      <td>3.05</td>\n",
       "      <td>11755881.0</td>\n",
       "      <td>42.05</td>\n",
       "      <td>Rural</td>\n",
       "    </tr>\n",
       "    <tr>\n",
       "      <th>2</th>\n",
       "      <td>Andhra Pradesh</td>\n",
       "      <td>31-07-2019</td>\n",
       "      <td>Monthly</td>\n",
       "      <td>3.75</td>\n",
       "      <td>12086707.0</td>\n",
       "      <td>43.50</td>\n",
       "      <td>Rural</td>\n",
       "    </tr>\n",
       "    <tr>\n",
       "      <th>3</th>\n",
       "      <td>Andhra Pradesh</td>\n",
       "      <td>31-08-2019</td>\n",
       "      <td>Monthly</td>\n",
       "      <td>3.32</td>\n",
       "      <td>12285693.0</td>\n",
       "      <td>43.97</td>\n",
       "      <td>Rural</td>\n",
       "    </tr>\n",
       "    <tr>\n",
       "      <th>4</th>\n",
       "      <td>Andhra Pradesh</td>\n",
       "      <td>30-09-2019</td>\n",
       "      <td>Monthly</td>\n",
       "      <td>5.17</td>\n",
       "      <td>12256762.0</td>\n",
       "      <td>44.68</td>\n",
       "      <td>Rural</td>\n",
       "    </tr>\n",
       "    <tr>\n",
       "      <th>...</th>\n",
       "      <td>...</td>\n",
       "      <td>...</td>\n",
       "      <td>...</td>\n",
       "      <td>...</td>\n",
       "      <td>...</td>\n",
       "      <td>...</td>\n",
       "      <td>...</td>\n",
       "    </tr>\n",
       "    <tr>\n",
       "      <th>763</th>\n",
       "      <td>NaN</td>\n",
       "      <td>NaN</td>\n",
       "      <td>NaN</td>\n",
       "      <td>NaN</td>\n",
       "      <td>NaN</td>\n",
       "      <td>NaN</td>\n",
       "      <td>NaN</td>\n",
       "    </tr>\n",
       "    <tr>\n",
       "      <th>764</th>\n",
       "      <td>NaN</td>\n",
       "      <td>NaN</td>\n",
       "      <td>NaN</td>\n",
       "      <td>NaN</td>\n",
       "      <td>NaN</td>\n",
       "      <td>NaN</td>\n",
       "      <td>NaN</td>\n",
       "    </tr>\n",
       "    <tr>\n",
       "      <th>765</th>\n",
       "      <td>NaN</td>\n",
       "      <td>NaN</td>\n",
       "      <td>NaN</td>\n",
       "      <td>NaN</td>\n",
       "      <td>NaN</td>\n",
       "      <td>NaN</td>\n",
       "      <td>NaN</td>\n",
       "    </tr>\n",
       "    <tr>\n",
       "      <th>766</th>\n",
       "      <td>NaN</td>\n",
       "      <td>NaN</td>\n",
       "      <td>NaN</td>\n",
       "      <td>NaN</td>\n",
       "      <td>NaN</td>\n",
       "      <td>NaN</td>\n",
       "      <td>NaN</td>\n",
       "    </tr>\n",
       "    <tr>\n",
       "      <th>767</th>\n",
       "      <td>NaN</td>\n",
       "      <td>NaN</td>\n",
       "      <td>NaN</td>\n",
       "      <td>NaN</td>\n",
       "      <td>NaN</td>\n",
       "      <td>NaN</td>\n",
       "      <td>NaN</td>\n",
       "    </tr>\n",
       "  </tbody>\n",
       "</table>\n",
       "<p>768 rows × 7 columns</p>\n",
       "</div>"
      ],
      "text/plain": [
       "             Region         Date  Frequency   Estimated Unemployment Rate (%)  \\\n",
       "0    Andhra Pradesh   31-05-2019    Monthly                              3.65   \n",
       "1    Andhra Pradesh   30-06-2019    Monthly                              3.05   \n",
       "2    Andhra Pradesh   31-07-2019    Monthly                              3.75   \n",
       "3    Andhra Pradesh   31-08-2019    Monthly                              3.32   \n",
       "4    Andhra Pradesh   30-09-2019    Monthly                              5.17   \n",
       "..              ...          ...        ...                               ...   \n",
       "763             NaN          NaN        NaN                               NaN   \n",
       "764             NaN          NaN        NaN                               NaN   \n",
       "765             NaN          NaN        NaN                               NaN   \n",
       "766             NaN          NaN        NaN                               NaN   \n",
       "767             NaN          NaN        NaN                               NaN   \n",
       "\n",
       "      Estimated Employed   Estimated Labour Participation Rate (%)   Area  \n",
       "0             11999139.0                                     43.24  Rural  \n",
       "1             11755881.0                                     42.05  Rural  \n",
       "2             12086707.0                                     43.50  Rural  \n",
       "3             12285693.0                                     43.97  Rural  \n",
       "4             12256762.0                                     44.68  Rural  \n",
       "..                   ...                                       ...    ...  \n",
       "763                  NaN                                       NaN    NaN  \n",
       "764                  NaN                                       NaN    NaN  \n",
       "765                  NaN                                       NaN    NaN  \n",
       "766                  NaN                                       NaN    NaN  \n",
       "767                  NaN                                       NaN    NaN  \n",
       "\n",
       "[768 rows x 7 columns]"
      ]
     },
     "execution_count": 4,
     "metadata": {},
     "output_type": "execute_result"
    }
   ],
   "source": [
    "df"
   ]
  },
  {
   "cell_type": "code",
   "execution_count": 5,
   "id": "dbf35dc9",
   "metadata": {},
   "outputs": [
    {
     "data": {
      "text/html": [
       "<div>\n",
       "<style scoped>\n",
       "    .dataframe tbody tr th:only-of-type {\n",
       "        vertical-align: middle;\n",
       "    }\n",
       "\n",
       "    .dataframe tbody tr th {\n",
       "        vertical-align: top;\n",
       "    }\n",
       "\n",
       "    .dataframe thead th {\n",
       "        text-align: right;\n",
       "    }\n",
       "</style>\n",
       "<table border=\"1\" class=\"dataframe\">\n",
       "  <thead>\n",
       "    <tr style=\"text-align: right;\">\n",
       "      <th></th>\n",
       "      <th>Region</th>\n",
       "      <th>Date</th>\n",
       "      <th>Frequency</th>\n",
       "      <th>Estimated Unemployment Rate (%)</th>\n",
       "      <th>Estimated Employed</th>\n",
       "      <th>Estimated Labour Participation Rate (%)</th>\n",
       "      <th>Area</th>\n",
       "    </tr>\n",
       "  </thead>\n",
       "  <tbody>\n",
       "    <tr>\n",
       "      <th>0</th>\n",
       "      <td>Andhra Pradesh</td>\n",
       "      <td>31-05-2019</td>\n",
       "      <td>Monthly</td>\n",
       "      <td>3.65</td>\n",
       "      <td>11999139.0</td>\n",
       "      <td>43.24</td>\n",
       "      <td>Rural</td>\n",
       "    </tr>\n",
       "    <tr>\n",
       "      <th>1</th>\n",
       "      <td>Andhra Pradesh</td>\n",
       "      <td>30-06-2019</td>\n",
       "      <td>Monthly</td>\n",
       "      <td>3.05</td>\n",
       "      <td>11755881.0</td>\n",
       "      <td>42.05</td>\n",
       "      <td>Rural</td>\n",
       "    </tr>\n",
       "    <tr>\n",
       "      <th>2</th>\n",
       "      <td>Andhra Pradesh</td>\n",
       "      <td>31-07-2019</td>\n",
       "      <td>Monthly</td>\n",
       "      <td>3.75</td>\n",
       "      <td>12086707.0</td>\n",
       "      <td>43.50</td>\n",
       "      <td>Rural</td>\n",
       "    </tr>\n",
       "    <tr>\n",
       "      <th>3</th>\n",
       "      <td>Andhra Pradesh</td>\n",
       "      <td>31-08-2019</td>\n",
       "      <td>Monthly</td>\n",
       "      <td>3.32</td>\n",
       "      <td>12285693.0</td>\n",
       "      <td>43.97</td>\n",
       "      <td>Rural</td>\n",
       "    </tr>\n",
       "    <tr>\n",
       "      <th>4</th>\n",
       "      <td>Andhra Pradesh</td>\n",
       "      <td>30-09-2019</td>\n",
       "      <td>Monthly</td>\n",
       "      <td>5.17</td>\n",
       "      <td>12256762.0</td>\n",
       "      <td>44.68</td>\n",
       "      <td>Rural</td>\n",
       "    </tr>\n",
       "    <tr>\n",
       "      <th>5</th>\n",
       "      <td>Andhra Pradesh</td>\n",
       "      <td>31-10-2019</td>\n",
       "      <td>Monthly</td>\n",
       "      <td>3.52</td>\n",
       "      <td>12017412.0</td>\n",
       "      <td>43.01</td>\n",
       "      <td>Rural</td>\n",
       "    </tr>\n",
       "    <tr>\n",
       "      <th>6</th>\n",
       "      <td>Andhra Pradesh</td>\n",
       "      <td>30-11-2019</td>\n",
       "      <td>Monthly</td>\n",
       "      <td>4.12</td>\n",
       "      <td>11397681.0</td>\n",
       "      <td>41.00</td>\n",
       "      <td>Rural</td>\n",
       "    </tr>\n",
       "    <tr>\n",
       "      <th>7</th>\n",
       "      <td>Andhra Pradesh</td>\n",
       "      <td>31-12-2019</td>\n",
       "      <td>Monthly</td>\n",
       "      <td>4.38</td>\n",
       "      <td>12528395.0</td>\n",
       "      <td>45.14</td>\n",
       "      <td>Rural</td>\n",
       "    </tr>\n",
       "    <tr>\n",
       "      <th>8</th>\n",
       "      <td>Andhra Pradesh</td>\n",
       "      <td>31-01-2020</td>\n",
       "      <td>Monthly</td>\n",
       "      <td>4.84</td>\n",
       "      <td>12016676.0</td>\n",
       "      <td>43.46</td>\n",
       "      <td>Rural</td>\n",
       "    </tr>\n",
       "    <tr>\n",
       "      <th>9</th>\n",
       "      <td>Andhra Pradesh</td>\n",
       "      <td>29-02-2020</td>\n",
       "      <td>Monthly</td>\n",
       "      <td>5.91</td>\n",
       "      <td>11723617.0</td>\n",
       "      <td>42.83</td>\n",
       "      <td>Rural</td>\n",
       "    </tr>\n",
       "  </tbody>\n",
       "</table>\n",
       "</div>"
      ],
      "text/plain": [
       "           Region         Date  Frequency   Estimated Unemployment Rate (%)  \\\n",
       "0  Andhra Pradesh   31-05-2019    Monthly                              3.65   \n",
       "1  Andhra Pradesh   30-06-2019    Monthly                              3.05   \n",
       "2  Andhra Pradesh   31-07-2019    Monthly                              3.75   \n",
       "3  Andhra Pradesh   31-08-2019    Monthly                              3.32   \n",
       "4  Andhra Pradesh   30-09-2019    Monthly                              5.17   \n",
       "5  Andhra Pradesh   31-10-2019    Monthly                              3.52   \n",
       "6  Andhra Pradesh   30-11-2019    Monthly                              4.12   \n",
       "7  Andhra Pradesh   31-12-2019    Monthly                              4.38   \n",
       "8  Andhra Pradesh   31-01-2020    Monthly                              4.84   \n",
       "9  Andhra Pradesh   29-02-2020    Monthly                              5.91   \n",
       "\n",
       "    Estimated Employed   Estimated Labour Participation Rate (%)   Area  \n",
       "0           11999139.0                                     43.24  Rural  \n",
       "1           11755881.0                                     42.05  Rural  \n",
       "2           12086707.0                                     43.50  Rural  \n",
       "3           12285693.0                                     43.97  Rural  \n",
       "4           12256762.0                                     44.68  Rural  \n",
       "5           12017412.0                                     43.01  Rural  \n",
       "6           11397681.0                                     41.00  Rural  \n",
       "7           12528395.0                                     45.14  Rural  \n",
       "8           12016676.0                                     43.46  Rural  \n",
       "9           11723617.0                                     42.83  Rural  "
      ]
     },
     "execution_count": 5,
     "metadata": {},
     "output_type": "execute_result"
    }
   ],
   "source": [
    "df.head(10)"
   ]
  },
  {
   "cell_type": "code",
   "execution_count": 8,
   "id": "e8ac8d61",
   "metadata": {},
   "outputs": [
    {
     "data": {
      "text/html": [
       "<div>\n",
       "<style scoped>\n",
       "    .dataframe tbody tr th:only-of-type {\n",
       "        vertical-align: middle;\n",
       "    }\n",
       "\n",
       "    .dataframe tbody tr th {\n",
       "        vertical-align: top;\n",
       "    }\n",
       "\n",
       "    .dataframe thead th {\n",
       "        text-align: right;\n",
       "    }\n",
       "</style>\n",
       "<table border=\"1\" class=\"dataframe\">\n",
       "  <thead>\n",
       "    <tr style=\"text-align: right;\">\n",
       "      <th></th>\n",
       "      <th>Region</th>\n",
       "      <th>Date</th>\n",
       "      <th>Frequency</th>\n",
       "      <th>Estimated Unemployment Rate (%)</th>\n",
       "      <th>Estimated Employed</th>\n",
       "      <th>Estimated Labour Participation Rate (%)</th>\n",
       "      <th>Area</th>\n",
       "    </tr>\n",
       "  </thead>\n",
       "  <tbody>\n",
       "    <tr>\n",
       "      <th>758</th>\n",
       "      <td>NaN</td>\n",
       "      <td>NaN</td>\n",
       "      <td>NaN</td>\n",
       "      <td>NaN</td>\n",
       "      <td>NaN</td>\n",
       "      <td>NaN</td>\n",
       "      <td>NaN</td>\n",
       "    </tr>\n",
       "    <tr>\n",
       "      <th>759</th>\n",
       "      <td>NaN</td>\n",
       "      <td>NaN</td>\n",
       "      <td>NaN</td>\n",
       "      <td>NaN</td>\n",
       "      <td>NaN</td>\n",
       "      <td>NaN</td>\n",
       "      <td>NaN</td>\n",
       "    </tr>\n",
       "    <tr>\n",
       "      <th>760</th>\n",
       "      <td>NaN</td>\n",
       "      <td>NaN</td>\n",
       "      <td>NaN</td>\n",
       "      <td>NaN</td>\n",
       "      <td>NaN</td>\n",
       "      <td>NaN</td>\n",
       "      <td>NaN</td>\n",
       "    </tr>\n",
       "    <tr>\n",
       "      <th>761</th>\n",
       "      <td>NaN</td>\n",
       "      <td>NaN</td>\n",
       "      <td>NaN</td>\n",
       "      <td>NaN</td>\n",
       "      <td>NaN</td>\n",
       "      <td>NaN</td>\n",
       "      <td>NaN</td>\n",
       "    </tr>\n",
       "    <tr>\n",
       "      <th>762</th>\n",
       "      <td>NaN</td>\n",
       "      <td>NaN</td>\n",
       "      <td>NaN</td>\n",
       "      <td>NaN</td>\n",
       "      <td>NaN</td>\n",
       "      <td>NaN</td>\n",
       "      <td>NaN</td>\n",
       "    </tr>\n",
       "    <tr>\n",
       "      <th>763</th>\n",
       "      <td>NaN</td>\n",
       "      <td>NaN</td>\n",
       "      <td>NaN</td>\n",
       "      <td>NaN</td>\n",
       "      <td>NaN</td>\n",
       "      <td>NaN</td>\n",
       "      <td>NaN</td>\n",
       "    </tr>\n",
       "    <tr>\n",
       "      <th>764</th>\n",
       "      <td>NaN</td>\n",
       "      <td>NaN</td>\n",
       "      <td>NaN</td>\n",
       "      <td>NaN</td>\n",
       "      <td>NaN</td>\n",
       "      <td>NaN</td>\n",
       "      <td>NaN</td>\n",
       "    </tr>\n",
       "    <tr>\n",
       "      <th>765</th>\n",
       "      <td>NaN</td>\n",
       "      <td>NaN</td>\n",
       "      <td>NaN</td>\n",
       "      <td>NaN</td>\n",
       "      <td>NaN</td>\n",
       "      <td>NaN</td>\n",
       "      <td>NaN</td>\n",
       "    </tr>\n",
       "    <tr>\n",
       "      <th>766</th>\n",
       "      <td>NaN</td>\n",
       "      <td>NaN</td>\n",
       "      <td>NaN</td>\n",
       "      <td>NaN</td>\n",
       "      <td>NaN</td>\n",
       "      <td>NaN</td>\n",
       "      <td>NaN</td>\n",
       "    </tr>\n",
       "    <tr>\n",
       "      <th>767</th>\n",
       "      <td>NaN</td>\n",
       "      <td>NaN</td>\n",
       "      <td>NaN</td>\n",
       "      <td>NaN</td>\n",
       "      <td>NaN</td>\n",
       "      <td>NaN</td>\n",
       "      <td>NaN</td>\n",
       "    </tr>\n",
       "  </tbody>\n",
       "</table>\n",
       "</div>"
      ],
      "text/plain": [
       "    Region  Date  Frequency   Estimated Unemployment Rate (%)  \\\n",
       "758    NaN   NaN        NaN                               NaN   \n",
       "759    NaN   NaN        NaN                               NaN   \n",
       "760    NaN   NaN        NaN                               NaN   \n",
       "761    NaN   NaN        NaN                               NaN   \n",
       "762    NaN   NaN        NaN                               NaN   \n",
       "763    NaN   NaN        NaN                               NaN   \n",
       "764    NaN   NaN        NaN                               NaN   \n",
       "765    NaN   NaN        NaN                               NaN   \n",
       "766    NaN   NaN        NaN                               NaN   \n",
       "767    NaN   NaN        NaN                               NaN   \n",
       "\n",
       "      Estimated Employed   Estimated Labour Participation Rate (%) Area  \n",
       "758                  NaN                                       NaN  NaN  \n",
       "759                  NaN                                       NaN  NaN  \n",
       "760                  NaN                                       NaN  NaN  \n",
       "761                  NaN                                       NaN  NaN  \n",
       "762                  NaN                                       NaN  NaN  \n",
       "763                  NaN                                       NaN  NaN  \n",
       "764                  NaN                                       NaN  NaN  \n",
       "765                  NaN                                       NaN  NaN  \n",
       "766                  NaN                                       NaN  NaN  \n",
       "767                  NaN                                       NaN  NaN  "
      ]
     },
     "execution_count": 8,
     "metadata": {},
     "output_type": "execute_result"
    }
   ],
   "source": [
    "df.tail(10)"
   ]
  },
  {
   "cell_type": "code",
   "execution_count": 9,
   "id": "69037c31",
   "metadata": {},
   "outputs": [
    {
     "data": {
      "text/html": [
       "<div>\n",
       "<style scoped>\n",
       "    .dataframe tbody tr th:only-of-type {\n",
       "        vertical-align: middle;\n",
       "    }\n",
       "\n",
       "    .dataframe tbody tr th {\n",
       "        vertical-align: top;\n",
       "    }\n",
       "\n",
       "    .dataframe thead th {\n",
       "        text-align: right;\n",
       "    }\n",
       "</style>\n",
       "<table border=\"1\" class=\"dataframe\">\n",
       "  <thead>\n",
       "    <tr style=\"text-align: right;\">\n",
       "      <th></th>\n",
       "      <th>Estimated Unemployment Rate (%)</th>\n",
       "      <th>Estimated Employed</th>\n",
       "      <th>Estimated Labour Participation Rate (%)</th>\n",
       "    </tr>\n",
       "  </thead>\n",
       "  <tbody>\n",
       "    <tr>\n",
       "      <th>count</th>\n",
       "      <td>740.000000</td>\n",
       "      <td>7.400000e+02</td>\n",
       "      <td>740.000000</td>\n",
       "    </tr>\n",
       "    <tr>\n",
       "      <th>mean</th>\n",
       "      <td>11.787946</td>\n",
       "      <td>7.204460e+06</td>\n",
       "      <td>42.630122</td>\n",
       "    </tr>\n",
       "    <tr>\n",
       "      <th>std</th>\n",
       "      <td>10.721298</td>\n",
       "      <td>8.087988e+06</td>\n",
       "      <td>8.111094</td>\n",
       "    </tr>\n",
       "    <tr>\n",
       "      <th>min</th>\n",
       "      <td>0.000000</td>\n",
       "      <td>4.942000e+04</td>\n",
       "      <td>13.330000</td>\n",
       "    </tr>\n",
       "    <tr>\n",
       "      <th>25%</th>\n",
       "      <td>4.657500</td>\n",
       "      <td>1.190404e+06</td>\n",
       "      <td>38.062500</td>\n",
       "    </tr>\n",
       "    <tr>\n",
       "      <th>50%</th>\n",
       "      <td>8.350000</td>\n",
       "      <td>4.744178e+06</td>\n",
       "      <td>41.160000</td>\n",
       "    </tr>\n",
       "    <tr>\n",
       "      <th>75%</th>\n",
       "      <td>15.887500</td>\n",
       "      <td>1.127549e+07</td>\n",
       "      <td>45.505000</td>\n",
       "    </tr>\n",
       "    <tr>\n",
       "      <th>max</th>\n",
       "      <td>76.740000</td>\n",
       "      <td>4.577751e+07</td>\n",
       "      <td>72.570000</td>\n",
       "    </tr>\n",
       "  </tbody>\n",
       "</table>\n",
       "</div>"
      ],
      "text/plain": [
       "        Estimated Unemployment Rate (%)   Estimated Employed  \\\n",
       "count                        740.000000         7.400000e+02   \n",
       "mean                          11.787946         7.204460e+06   \n",
       "std                           10.721298         8.087988e+06   \n",
       "min                            0.000000         4.942000e+04   \n",
       "25%                            4.657500         1.190404e+06   \n",
       "50%                            8.350000         4.744178e+06   \n",
       "75%                           15.887500         1.127549e+07   \n",
       "max                           76.740000         4.577751e+07   \n",
       "\n",
       "        Estimated Labour Participation Rate (%)  \n",
       "count                                740.000000  \n",
       "mean                                  42.630122  \n",
       "std                                    8.111094  \n",
       "min                                   13.330000  \n",
       "25%                                   38.062500  \n",
       "50%                                   41.160000  \n",
       "75%                                   45.505000  \n",
       "max                                   72.570000  "
      ]
     },
     "execution_count": 9,
     "metadata": {},
     "output_type": "execute_result"
    }
   ],
   "source": [
    "df.describe()"
   ]
  },
  {
   "cell_type": "code",
   "execution_count": 10,
   "id": "e9477efc",
   "metadata": {},
   "outputs": [
    {
     "name": "stdout",
     "output_type": "stream",
     "text": [
      "<class 'pandas.core.frame.DataFrame'>\n",
      "RangeIndex: 768 entries, 0 to 767\n",
      "Data columns (total 7 columns):\n",
      " #   Column                                    Non-Null Count  Dtype  \n",
      "---  ------                                    --------------  -----  \n",
      " 0   Region                                    740 non-null    object \n",
      " 1    Date                                     740 non-null    object \n",
      " 2    Frequency                                740 non-null    object \n",
      " 3    Estimated Unemployment Rate (%)          740 non-null    float64\n",
      " 4    Estimated Employed                       740 non-null    float64\n",
      " 5    Estimated Labour Participation Rate (%)  740 non-null    float64\n",
      " 6   Area                                      740 non-null    object \n",
      "dtypes: float64(3), object(4)\n",
      "memory usage: 42.1+ KB\n"
     ]
    }
   ],
   "source": [
    "df.info()"
   ]
  },
  {
   "cell_type": "code",
   "execution_count": 11,
   "id": "bcc3575c",
   "metadata": {},
   "outputs": [
    {
     "data": {
      "text/html": [
       "<div>\n",
       "<style scoped>\n",
       "    .dataframe tbody tr th:only-of-type {\n",
       "        vertical-align: middle;\n",
       "    }\n",
       "\n",
       "    .dataframe tbody tr th {\n",
       "        vertical-align: top;\n",
       "    }\n",
       "\n",
       "    .dataframe thead th {\n",
       "        text-align: right;\n",
       "    }\n",
       "</style>\n",
       "<table border=\"1\" class=\"dataframe\">\n",
       "  <thead>\n",
       "    <tr style=\"text-align: right;\">\n",
       "      <th></th>\n",
       "      <th>Region</th>\n",
       "      <th>Date</th>\n",
       "      <th>Frequency</th>\n",
       "      <th>Estimated Unemployment Rate (%)</th>\n",
       "      <th>Estimated Employed</th>\n",
       "      <th>Estimated Labour Participation Rate (%)</th>\n",
       "      <th>Area</th>\n",
       "    </tr>\n",
       "  </thead>\n",
       "  <tbody>\n",
       "    <tr>\n",
       "      <th>0</th>\n",
       "      <td>False</td>\n",
       "      <td>False</td>\n",
       "      <td>False</td>\n",
       "      <td>False</td>\n",
       "      <td>False</td>\n",
       "      <td>False</td>\n",
       "      <td>False</td>\n",
       "    </tr>\n",
       "    <tr>\n",
       "      <th>1</th>\n",
       "      <td>False</td>\n",
       "      <td>False</td>\n",
       "      <td>False</td>\n",
       "      <td>False</td>\n",
       "      <td>False</td>\n",
       "      <td>False</td>\n",
       "      <td>False</td>\n",
       "    </tr>\n",
       "    <tr>\n",
       "      <th>2</th>\n",
       "      <td>False</td>\n",
       "      <td>False</td>\n",
       "      <td>False</td>\n",
       "      <td>False</td>\n",
       "      <td>False</td>\n",
       "      <td>False</td>\n",
       "      <td>False</td>\n",
       "    </tr>\n",
       "    <tr>\n",
       "      <th>3</th>\n",
       "      <td>False</td>\n",
       "      <td>False</td>\n",
       "      <td>False</td>\n",
       "      <td>False</td>\n",
       "      <td>False</td>\n",
       "      <td>False</td>\n",
       "      <td>False</td>\n",
       "    </tr>\n",
       "    <tr>\n",
       "      <th>4</th>\n",
       "      <td>False</td>\n",
       "      <td>False</td>\n",
       "      <td>False</td>\n",
       "      <td>False</td>\n",
       "      <td>False</td>\n",
       "      <td>False</td>\n",
       "      <td>False</td>\n",
       "    </tr>\n",
       "    <tr>\n",
       "      <th>...</th>\n",
       "      <td>...</td>\n",
       "      <td>...</td>\n",
       "      <td>...</td>\n",
       "      <td>...</td>\n",
       "      <td>...</td>\n",
       "      <td>...</td>\n",
       "      <td>...</td>\n",
       "    </tr>\n",
       "    <tr>\n",
       "      <th>763</th>\n",
       "      <td>True</td>\n",
       "      <td>True</td>\n",
       "      <td>True</td>\n",
       "      <td>True</td>\n",
       "      <td>True</td>\n",
       "      <td>True</td>\n",
       "      <td>True</td>\n",
       "    </tr>\n",
       "    <tr>\n",
       "      <th>764</th>\n",
       "      <td>True</td>\n",
       "      <td>True</td>\n",
       "      <td>True</td>\n",
       "      <td>True</td>\n",
       "      <td>True</td>\n",
       "      <td>True</td>\n",
       "      <td>True</td>\n",
       "    </tr>\n",
       "    <tr>\n",
       "      <th>765</th>\n",
       "      <td>True</td>\n",
       "      <td>True</td>\n",
       "      <td>True</td>\n",
       "      <td>True</td>\n",
       "      <td>True</td>\n",
       "      <td>True</td>\n",
       "      <td>True</td>\n",
       "    </tr>\n",
       "    <tr>\n",
       "      <th>766</th>\n",
       "      <td>True</td>\n",
       "      <td>True</td>\n",
       "      <td>True</td>\n",
       "      <td>True</td>\n",
       "      <td>True</td>\n",
       "      <td>True</td>\n",
       "      <td>True</td>\n",
       "    </tr>\n",
       "    <tr>\n",
       "      <th>767</th>\n",
       "      <td>True</td>\n",
       "      <td>True</td>\n",
       "      <td>True</td>\n",
       "      <td>True</td>\n",
       "      <td>True</td>\n",
       "      <td>True</td>\n",
       "      <td>True</td>\n",
       "    </tr>\n",
       "  </tbody>\n",
       "</table>\n",
       "<p>768 rows × 7 columns</p>\n",
       "</div>"
      ],
      "text/plain": [
       "     Region   Date   Frequency   Estimated Unemployment Rate (%)  \\\n",
       "0     False  False       False                             False   \n",
       "1     False  False       False                             False   \n",
       "2     False  False       False                             False   \n",
       "3     False  False       False                             False   \n",
       "4     False  False       False                             False   \n",
       "..      ...    ...         ...                               ...   \n",
       "763    True   True        True                              True   \n",
       "764    True   True        True                              True   \n",
       "765    True   True        True                              True   \n",
       "766    True   True        True                              True   \n",
       "767    True   True        True                              True   \n",
       "\n",
       "      Estimated Employed   Estimated Labour Participation Rate (%)   Area  \n",
       "0                  False                                     False  False  \n",
       "1                  False                                     False  False  \n",
       "2                  False                                     False  False  \n",
       "3                  False                                     False  False  \n",
       "4                  False                                     False  False  \n",
       "..                   ...                                       ...    ...  \n",
       "763                 True                                      True   True  \n",
       "764                 True                                      True   True  \n",
       "765                 True                                      True   True  \n",
       "766                 True                                      True   True  \n",
       "767                 True                                      True   True  \n",
       "\n",
       "[768 rows x 7 columns]"
      ]
     },
     "execution_count": 11,
     "metadata": {},
     "output_type": "execute_result"
    }
   ],
   "source": [
    "df.isnull()"
   ]
  },
  {
   "cell_type": "code",
   "execution_count": 12,
   "id": "44b07eaa",
   "metadata": {},
   "outputs": [
    {
     "data": {
      "text/plain": [
       "Region                                      28\n",
       " Date                                       28\n",
       " Frequency                                  28\n",
       " Estimated Unemployment Rate (%)            28\n",
       " Estimated Employed                         28\n",
       " Estimated Labour Participation Rate (%)    28\n",
       "Area                                        28\n",
       "dtype: int64"
      ]
     },
     "execution_count": 12,
     "metadata": {},
     "output_type": "execute_result"
    }
   ],
   "source": [
    "df.isnull().sum()"
   ]
  },
  {
   "cell_type": "code",
   "execution_count": 14,
   "id": "f8840da9",
   "metadata": {},
   "outputs": [],
   "source": [
    "df.columns =['States','Date','Frequency','Estimated Unemployment Rate','Estimated Employed','Estimated Labour Participation Rate','Region']"
   ]
  },
  {
   "cell_type": "code",
   "execution_count": 15,
   "id": "8abb8cc1",
   "metadata": {},
   "outputs": [
    {
     "data": {
      "text/plain": [
       "array(['Andhra Pradesh', 'Assam', 'Bihar', 'Chhattisgarh', 'Delhi', 'Goa',\n",
       "       'Gujarat', 'Haryana', 'Himachal Pradesh', 'Jammu & Kashmir',\n",
       "       'Jharkhand', 'Karnataka', 'Kerala', 'Madhya Pradesh',\n",
       "       'Maharashtra', 'Meghalaya', 'Odisha', 'Puducherry', 'Punjab',\n",
       "       'Rajasthan', 'Sikkim', 'Tamil Nadu', 'Telangana', 'Tripura',\n",
       "       'Uttar Pradesh', 'Uttarakhand', 'West Bengal', nan, 'Chandigarh'],\n",
       "      dtype=object)"
      ]
     },
     "execution_count": 15,
     "metadata": {},
     "output_type": "execute_result"
    }
   ],
   "source": [
    "df['States'].unique()"
   ]
  },
  {
   "cell_type": "code",
   "execution_count": 16,
   "id": "c737d147",
   "metadata": {},
   "outputs": [
    {
     "data": {
      "text/plain": [
       "array(['Rural', nan, 'Urban'], dtype=object)"
      ]
     },
     "execution_count": 16,
     "metadata": {},
     "output_type": "execute_result"
    }
   ],
   "source": [
    "df['Region'].unique()"
   ]
  },
  {
   "cell_type": "code",
   "execution_count": 17,
   "id": "6d1e9587",
   "metadata": {},
   "outputs": [
    {
     "data": {
      "text/plain": [
       "Region\n",
       "Rural    359\n",
       "Urban    381\n",
       "dtype: int64"
      ]
     },
     "execution_count": 17,
     "metadata": {},
     "output_type": "execute_result"
    }
   ],
   "source": [
    "df.groupby('Region').size()"
   ]
  },
  {
   "cell_type": "code",
   "execution_count": 31,
   "id": "ebb50b1e",
   "metadata": {},
   "outputs": [
    {
     "data": {
      "text/plain": [
       "States\n",
       "Andhra Pradesh      10\n",
       "Assam               10\n",
       "Bihar               10\n",
       "Chhattisgarh        10\n",
       "Delhi               10\n",
       "Goa                 10\n",
       "Gujarat             10\n",
       "Haryana             10\n",
       "Himachal Pradesh    10\n",
       "Jammu & Kashmir      9\n",
       "Jharkhand           10\n",
       "Karnataka           10\n",
       "Kerala              10\n",
       "Madhya Pradesh      10\n",
       "Maharashtra         10\n",
       "Meghalaya           10\n",
       "Odisha              10\n",
       "Puducherry          10\n",
       "Punjab              10\n",
       "Rajasthan           10\n",
       "Sikkim               8\n",
       "Tamil Nadu          10\n",
       "Telangana           10\n",
       "Tripura             10\n",
       "Uttar Pradesh       10\n",
       "Uttarakhand         10\n",
       "West Bengal         10\n",
       "dtype: int64"
      ]
     },
     "execution_count": 31,
     "metadata": {},
     "output_type": "execute_result"
    }
   ],
   "source": [
    "df.groupby('States').size()"
   ]
  },
  {
   "cell_type": "code",
   "execution_count": 19,
   "id": "8bb5c414",
   "metadata": {},
   "outputs": [
    {
     "data": {
      "image/png": "[encoded data removed]",
      "text/plain": [
       "<Figure size 1000x600 with 2 Axes>"
      ]
     },
     "metadata": {},
     "output_type": "display_data"
    }
   ],
   "source": [
    "heat_maps = df[['Estimated Unemployment Rate','Estimated Employed', 'Estimated Labour Participation Rate']]\n",
    "\n",
    "heat_maps = heat_maps.corr()\n",
    "\n",
    "plt.figure(figsize=(10,6))\n",
    "sns.set_context('notebook',font_scale=1)\n",
    "sns.heatmap(heat_maps, annot=True,cmap='summer');"
   ]
  },
  {
   "cell_type": "code",
   "execution_count": 22,
   "id": "05e531d0",
   "metadata": {},
   "outputs": [
    {
     "data": {
      "application/vnd.plotly.v1+json": {
       "config": {
        "plotlyServerURL": "https://plot.ly"
       },
       "data": [
        {
         "alignmentgroup": "True",
         "hovertemplate": "Region=%{x}<br>Date= 31-05-2019<br>Estimated Unemployment Rate=%{y}<extra></extra>",
         "legendgroup": "Rural",
         "marker": {
          "color": "#636efa",
          "pattern": {
           "shape": ""
          }
         },
         "name": "Rural",
         "offsetgroup": "Rural",
         "orientation": "v",
         "showlegend": true,
         "textposition": "auto",
         "type": "bar",
         "x": [
          "Rural",
          "Rural",
          "Rural",
          "Rural",
          "Rural",
          "Rural",
          "Rural",
          "Rural",
          "Rural",
          "Rural",
          "Rural",
          "Rural",
          "Rural",
          "Rural",
          "Rural",
          "Rural",
          "Rural",
          "Rural",
          "Rural",
          "Rural",
          "Rural",
          "Rural",
          "Rural",
          "Rural",
          "Rural",
          "Rural"
         ],
         "xaxis": "x",
         "y": [
          3.65,
          4.29,
          9.27,
          9.82,
          12.56,
          2.91,
          2.88,
          14.54,
          13.68,
          12.78,
          7.11,
          5.46,
          6.63,
          3.63,
          3.67,
          3.16,
          4.17,
          0,
          9.17,
          4.03,
          0.97,
          2.23,
          29.25,
          10.26,
          1.63,
          6.02
         ],
         "yaxis": "y"
        },
        {
         "alignmentgroup": "True",
         "hovertemplate": "Region=%{x}<br>Date= 31-05-2019<br>Estimated Unemployment Rate=%{y}<extra></extra>",
         "legendgroup": "Urban",
         "marker": {
          "color": "#00cc96",
          "pattern": {
           "shape": ""
          }
         },
         "name": "Urban",
         "offsetgroup": "Urban",
         "orientation": "v",
         "showlegend": true,
         "textposition": "auto",
         "type": "bar",
         "x": [
          "Urban",
          "Urban",
          "Urban",
          "Urban",
          "Urban",
          "Urban",
          "Urban",
          "Urban",
          "Urban",
          "Urban",
          "Urban",
          "Urban",
          "Urban",
          "Urban",
          "Urban",
          "Urban",
          "Urban",
          "Urban",
          "Urban",
          "Urban",
          "Urban",
          "Urban",
          "Urban",
          "Urban",
          "Urban",
          "Urban",
          "Urban",
          "Urban"
         ],
         "xaxis": "x",
         "y": [
          6.09,
          7.87,
          19.9,
          18.35,
          9.77,
          12.31,
          2.75,
          4.09,
          24.67,
          10.88,
          23.04,
          17.23,
          6.56,
          6.11,
          3.91,
          6.08,
          8.4,
          2.95,
          1.25,
          13.49,
          13.62,
          8.2,
          0.89,
          1.52,
          34.69,
          14.4,
          9.17,
          7.25
         ],
         "yaxis": "y"
        }
       ],
       "frames": [
        {
         "data": [
          {
           "alignmentgroup": "True",
           "hovertemplate": "Region=%{x}<br>Date= 31-05-2019<br>Estimated Unemployment Rate=%{y}<extra></extra>",
           "legendgroup": "Rural",
           "marker": {
            "color": "#636efa",
            "pattern": {
             "shape": ""
            }
           },
           "name": "Rural",
           "offsetgroup": "Rural",
           "orientation": "v",
           "showlegend": true,
           "textposition": "auto",
           "type": "bar",
           "x": [
            "Rural",
            "Rural",
            "Rural",
            "Rural",
            "Rural",
            "Rural",
            "Rural",
            "Rural",
            "Rural",
            "Rural",
            "Rural",
            "Rural",
            "Rural",
            "Rural",
            "Rural",
            "Rural",
            "Rural",
            "Rural",
            "Rural",
            "Rural",
            "Rural",
            "Rural",
            "Rural",
            "Rural",
            "Rural",
            "Rural"
           ],
           "xaxis": "x",
           "y": [
            3.65,
            4.29,
            9.27,
            9.82,
            12.56,
            2.91,
            2.88,
            14.54,
            13.68,
            12.78,
            7.11,
            5.46,
            6.63,
            3.63,
            3.67,
            3.16,
            4.17,
            0,
            9.17,
            4.03,
            0.97,
            2.23,
            29.25,
            10.26,
            1.63,
            6.02
           ],
           "yaxis": "y"
          },
          {
           "alignmentgroup": "True",
           "hovertemplate": "Region=%{x}<br>Date= 31-05-2019<br>Estimated Unemployment Rate=%{y}<extra></extra>",
           "legendgroup": "Urban",
           "marker": {
            "color": "#00cc96",
            "pattern": {
             "shape": ""
            }
           },
           "name": "Urban",
           "offsetgroup": "Urban",
           "orientation": "v",
           "showlegend": true,
           "textposition": "auto",
           "type": "bar",
           "x": [
            "Urban",
            "Urban",
            "Urban",
            "Urban",
            "Urban",
            "Urban",
            "Urban",
            "Urban",
            "Urban",
            "Urban",
            "Urban",
            "Urban",
            "Urban",
            "Urban",
            "Urban",
            "Urban",
            "Urban",
            "Urban",
            "Urban",
            "Urban",
            "Urban",
            "Urban",
            "Urban",
            "Urban",
            "Urban",
            "Urban",
            "Urban",
            "Urban"
           ],
           "xaxis": "x",
           "y": [
            6.09,
            7.87,
            19.9,
            18.35,
            9.77,
            12.31,
            2.75,
            4.09,
            24.67,
            10.88,
            23.04,
            17.23,
            6.56,
            6.11,
            3.91,
            6.08,
            8.4,
            2.95,
            1.25,
            13.49,
            13.62,
            8.2,
            0.89,
            1.52,
            34.69,
            14.4,
            9.17,
            7.25
           ],
           "yaxis": "y"
          }
         ],
         "name": " 31-05-2019"
        },
        {
         "data": [
          {
           "alignmentgroup": "True",
           "hovertemplate": "Region=%{x}<br>Date= 30-06-2019<br>Estimated Unemployment Rate=%{y}<extra></extra>",
           "legendgroup": "Rural",
           "marker": {
            "color": "#636efa",
            "pattern": {
             "shape": ""
            }
           },
           "name": "Rural",
           "offsetgroup": "Rural",
           "orientation": "v",
           "showlegend": true,
           "textposition": "auto",
           "type": "bar",
           "x": [
            "Rural",
            "Rural",
            "Rural",
            "Rural",
            "Rural",
            "Rural",
            "Rural",
            "Rural",
            "Rural",
            "Rural",
            "Rural",
            "Rural",
            "Rural",
            "Rural",
            "Rural",
            "Rural",
            "Rural",
            "Rural",
            "Rural",
            "Rural",
            "Rural",
            "Rural",
            "Rural",
            "Rural",
            "Rural",
            "Rural"
           ],
           "xaxis": "x",
           "y": [
            3.05,
            5.08,
            10.2,
            6.76,
            9.33,
            5.45,
            4.77,
            23.08,
            11.43,
            12.09,
            8.46,
            5.98,
            9,
            4.25,
            4.34,
            4.23,
            4.71,
            0,
            12.21,
            13.7,
            0.92,
            5.92,
            26.64,
            11.13,
            4.65,
            5.85
           ],
           "yaxis": "y"
          },
          {
           "alignmentgroup": "True",
           "hovertemplate": "Region=%{x}<br>Date= 30-06-2019<br>Estimated Unemployment Rate=%{y}<extra></extra>",
           "legendgroup": "Urban",
           "marker": {
            "color": "#00cc96",
            "pattern": {
             "shape": ""
            }
           },
           "name": "Urban",
           "offsetgroup": "Urban",
           "orientation": "v",
           "showlegend": true,
           "textposition": "auto",
           "type": "bar",
           "x": [
            "Urban",
            "Urban",
            "Urban",
            "Urban",
            "Urban",
            "Urban",
            "Urban",
            "Urban",
            "Urban",
            "Urban",
            "Urban",
            "Urban",
            "Urban",
            "Urban",
            "Urban",
            "Urban",
            "Urban",
            "Urban",
            "Urban",
            "Urban",
            "Urban",
            "Urban",
            "Urban",
            "Urban",
            "Urban",
            "Urban",
            "Urban",
            "Urban"
           ],
           "xaxis": "x",
           "y": [
            3.8,
            9.89,
            13.29,
            12.4,
            11.77,
            12.76,
            13.33,
            6.31,
            20.42,
            21.43,
            19.88,
            20.51,
            5,
            6.67,
            6.38,
            6.46,
            8.66,
            2.63,
            0,
            13.17,
            14.36,
            7.76,
            1.56,
            1.43,
            25.59,
            11.62,
            4.69,
            7.38
           ],
           "yaxis": "y"
          }
         ],
         "name": " 30-06-2019"
        },
        {
         "data": [
          {
           "alignmentgroup": "True",
           "hovertemplate": "Region=%{x}<br>Date= 31-07-2019<br>Estimated Unemployment Rate=%{y}<extra></extra>",
           "legendgroup": "Rural",
           "marker": {
            "color": "#636efa",
            "pattern": {
             "shape": ""
            }
           },
           "name": "Rural",
           "offsetgroup": "Rural",
           "orientation": "v",
           "showlegend": true,
           "textposition": "auto",
           "type": "bar",
           "x": [
            "Rural",
            "Rural",
            "Rural",
            "Rural",
            "Rural",
            "Rural",
            "Rural",
            "Rural",
            "Rural",
            "Rural",
            "Rural",
            "Rural",
            "Rural",
            "Rural",
            "Rural",
            "Rural",
            "Rural",
            "Rural",
            "Rural",
            "Rural",
            "Rural",
            "Rural",
            "Rural",
            "Rural",
            "Rural",
            "Rural"
           ],
           "xaxis": "x",
           "y": [
            3.75,
            4.26,
            13.44,
            4.54,
            11.07,
            10.98,
            4.58,
            16.22,
            20.59,
            13.67,
            9.98,
            0.52,
            4.95,
            3.92,
            3.66,
            1.03,
            3.31,
            0,
            9.64,
            9.7,
            6.01,
            2.45,
            22.47,
            9.19,
            5.74,
            5.62
           ],
           "yaxis": "y"
          },
          {
           "alignmentgroup": "True",
           "hovertemplate": "Region=%{x}<br>Date= 31-07-2019<br>Estimated Unemployment Rate=%{y}<extra></extra>",
           "legendgroup": "Urban",
           "marker": {
            "color": "#00cc96",
            "pattern": {
             "shape": ""
            }
           },
           "name": "Urban",
           "offsetgroup": "Urban",
           "orientation": "v",
           "showlegend": true,
           "textposition": "auto",
           "type": "bar",
           "x": [
            "Urban",
            "Urban",
            "Urban",
            "Urban",
            "Urban",
            "Urban",
            "Urban",
            "Urban",
            "Urban",
            "Urban",
            "Urban",
            "Urban",
            "Urban",
            "Urban",
            "Urban",
            "Urban",
            "Urban",
            "Urban",
            "Urban",
            "Urban",
            "Urban",
            "Urban",
            "Urban",
            "Urban",
            "Urban",
            "Urban",
            "Urban",
            "Urban"
           ],
           "xaxis": "x",
           "y": [
            5.64,
            3.21,
            16.41,
            21.8,
            8.17,
            14.68,
            12.28,
            5.15,
            25.45,
            21.51,
            21.55,
            15.67,
            2.29,
            7.58,
            7.38,
            6.35,
            4.43,
            1.78,
            0,
            11.61,
            11.67,
            2.56,
            3.18,
            3.73,
            25.81,
            11.8,
            6.94,
            7.91
           ],
           "yaxis": "y"
          }
         ],
         "name": " 31-07-2019"
        },
        {
         "data": [
          {
           "alignmentgroup": "True",
           "hovertemplate": "Region=%{x}<br>Date= 31-08-2019<br>Estimated Unemployment Rate=%{y}<extra></extra>",
           "legendgroup": "Rural",
           "marker": {
            "color": "#636efa",
            "pattern": {
             "shape": ""
            }
           },
           "name": "Rural",
           "offsetgroup": "Rural",
           "orientation": "v",
           "showlegend": true,
           "textposition": "auto",
           "type": "bar",
           "x": [
            "Rural",
            "Rural",
            "Rural",
            "Rural",
            "Rural",
            "Rural",
            "Rural",
            "Rural",
            "Rural",
            "Rural",
            "Rural",
            "Rural",
            "Rural",
            "Rural",
            "Rural",
            "Rural",
            "Rural",
            "Rural",
            "Rural",
            "Rural",
            "Rural",
            "Rural",
            "Rural",
            "Rural",
            "Rural",
            "Rural"
           ],
           "xaxis": "x",
           "y": [
            3.32,
            5.79,
            11,
            4.64,
            17.18,
            1.98,
            3.7,
            30.94,
            18.56,
            11.32,
            12.06,
            0.37,
            10.32,
            4.94,
            3.76,
            0.52,
            3.68,
            4.85,
            6.69,
            12.5,
            2.91,
            1.4,
            25.49,
            11.47,
            6.11,
            5.58
           ],
           "yaxis": "y"
          },
          {
           "alignmentgroup": "True",
           "hovertemplate": "Region=%{x}<br>Date= 31-08-2019<br>Estimated Unemployment Rate=%{y}<extra></extra>",
           "legendgroup": "Urban",
           "marker": {
            "color": "#00cc96",
            "pattern": {
             "shape": ""
            }
           },
           "name": "Urban",
           "offsetgroup": "Urban",
           "orientation": "v",
           "showlegend": true,
           "textposition": "auto",
           "type": "bar",
           "x": [
            "Urban",
            "Urban",
            "Urban",
            "Urban",
            "Urban",
            "Urban",
            "Urban",
            "Urban",
            "Urban",
            "Urban",
            "Urban",
            "Urban",
            "Urban",
            "Urban",
            "Urban",
            "Urban",
            "Urban",
            "Urban",
            "Urban",
            "Urban",
            "Urban",
            "Urban",
            "Urban",
            "Urban",
            "Urban",
            "Urban",
            "Urban"
           ],
           "xaxis": "x",
           "y": [
            4.61,
            10.39,
            17.66,
            9.52,
            6.29,
            13.52,
            4.9,
            4.2,
            24.19,
            24.48,
            20.25,
            1.27,
            7.69,
            6.82,
            7.57,
            5.8,
            3.5,
            8.95,
            11.99,
            14.71,
            4.82,
            9.53,
            4.19,
            33.45,
            14.73,
            7.43,
            7.27
           ],
           "yaxis": "y"
          }
         ],
         "name": " 31-08-2019"
        },
        {
         "data": [
          {
           "alignmentgroup": "True",
           "hovertemplate": "Region=%{x}<br>Date= 30-09-2019<br>Estimated Unemployment Rate=%{y}<extra></extra>",
           "legendgroup": "Rural",
           "marker": {
            "color": "#636efa",
            "pattern": {
             "shape": ""
            }
           },
           "name": "Rural",
           "offsetgroup": "Rural",
           "orientation": "v",
           "showlegend": true,
           "textposition": "auto",
           "type": "bar",
           "x": [
            "Rural",
            "Rural",
            "Rural",
            "Rural",
            "Rural",
            "Rural",
            "Rural",
            "Rural",
            "Rural",
            "Rural",
            "Rural",
            "Rural",
            "Rural",
            "Rural",
            "Rural",
            "Rural",
            "Rural",
            "Rural",
            "Rural",
            "Rural",
            "Rural",
            "Rural",
            "Rural",
            "Rural",
            "Rural"
           ],
           "xaxis": "x",
           "y": [
            5.17,
            4.46,
            8.87,
            8.33,
            12.5,
            3.61,
            6.29,
            16.36,
            15.98,
            7.12,
            3.2,
            5.35,
            3.08,
            4.4,
            0.24,
            4.31,
            0,
            8.59,
            5.45,
            1.71,
            5.49,
            30.23,
            6.45,
            3.47,
            5.26
           ],
           "yaxis": "y"
          },
          {
           "alignmentgroup": "True",
           "hovertemplate": "Region=%{x}<br>Date= 30-09-2019<br>Estimated Unemployment Rate=%{y}<extra></extra>",
           "legendgroup": "Urban",
           "marker": {
            "color": "#00cc96",
            "pattern": {
             "shape": ""
            }
           },
           "name": "Urban",
           "offsetgroup": "Urban",
           "orientation": "v",
           "showlegend": true,
           "textposition": "auto",
           "type": "bar",
           "x": [
            "Urban",
            "Urban",
            "Urban",
            "Urban",
            "Urban",
            "Urban",
            "Urban",
            "Urban",
            "Urban",
            "Urban",
            "Urban",
            "Urban",
            "Urban",
            "Urban",
            "Urban",
            "Urban",
            "Urban",
            "Urban",
            "Urban",
            "Urban",
            "Urban",
            "Urban",
            "Urban",
            "Urban",
            "Urban",
            "Urban",
            "Urban"
           ],
           "xaxis": "x",
           "y": [
            6.01,
            9.26,
            20.46,
            20.14,
            9.46,
            20.59,
            3.16,
            5.96,
            26.84,
            12,
            21.16,
            3.57,
            5.52,
            7,
            7.6,
            5.3,
            3.78,
            1.22,
            15.69,
            12.63,
            4.81,
            1.86,
            6.19,
            33.57,
            13.58,
            9.62,
            7.79
           ],
           "yaxis": "y"
          }
         ],
         "name": " 30-09-2019"
        },
        {
         "data": [
          {
           "alignmentgroup": "True",
           "hovertemplate": "Region=%{x}<br>Date= 31-10-2019<br>Estimated Unemployment Rate=%{y}<extra></extra>",
           "legendgroup": "Rural",
           "marker": {
            "color": "#636efa",
            "pattern": {
             "shape": ""
            }
           },
           "name": "Rural",
           "offsetgroup": "Rural",
           "orientation": "v",
           "showlegend": true,
           "textposition": "auto",
           "type": "bar",
           "x": [
            "Rural",
            "Rural",
            "Rural",
            "Rural",
            "Rural",
            "Rural",
            "Rural",
            "Rural",
            "Rural",
            "Rural",
            "Rural",
            "Rural",
            "Rural",
            "Rural",
            "Rural",
            "Rural",
            "Rural",
            "Rural",
            "Rural",
            "Rural",
            "Rural",
            "Rural",
            "Rural",
            "Rural",
            "Rural",
            "Rural",
            "Rural"
           ],
           "xaxis": "x",
           "y": [
            3.52,
            4.65,
            12.47,
            6.96,
            15.84,
            7.21,
            4.91,
            24.17,
            15.81,
            19.27,
            6.57,
            7.13,
            9.14,
            2.98,
            3.81,
            3.7,
            4.28,
            1.18,
            12.56,
            14.66,
            5.48,
            1.46,
            7.29,
            27.54,
            10.18,
            4.83,
            6.78
           ],
           "yaxis": "y"
          },
          {
           "alignmentgroup": "True",
           "hovertemplate": "Region=%{x}<br>Date= 31-10-2019<br>Estimated Unemployment Rate=%{y}<extra></extra>",
           "legendgroup": "Urban",
           "marker": {
            "color": "#00cc96",
            "pattern": {
             "shape": ""
            }
           },
           "name": "Urban",
           "offsetgroup": "Urban",
           "orientation": "v",
           "showlegend": true,
           "textposition": "auto",
           "type": "bar",
           "x": [
            "Urban",
            "Urban",
            "Urban",
            "Urban",
            "Urban",
            "Urban",
            "Urban",
            "Urban",
            "Urban",
            "Urban",
            "Urban",
            "Urban",
            "Urban",
            "Urban",
            "Urban",
            "Urban",
            "Urban",
            "Urban",
            "Urban",
            "Urban",
            "Urban",
            "Urban",
            "Urban",
            "Urban",
            "Urban",
            "Urban",
            "Urban",
            "Urban"
           ],
           "xaxis": "x",
           "y": [
            4.7,
            11.17,
            14.06,
            13.99,
            10.27,
            12.41,
            12.31,
            5.45,
            21.04,
            23.77,
            24.06,
            19.05,
            3.87,
            5.35,
            4.4,
            7.51,
            7.2,
            4.5,
            1.17,
            13.75,
            13.02,
            9.68,
            1.13,
            6.74,
            26.67,
            10.35,
            4.72,
            7.83
           ],
           "yaxis": "y"
          }
         ],
         "name": " 31-10-2019"
        },
        {
         "data": [
          {
           "alignmentgroup": "True",
           "hovertemplate": "Region=%{x}<br>Date= 30-11-2019<br>Estimated Unemployment Rate=%{y}<extra></extra>",
           "legendgroup": "Rural",
           "marker": {
            "color": "#636efa",
            "pattern": {
             "shape": ""
            }
           },
           "name": "Rural",
           "offsetgroup": "Rural",
           "orientation": "v",
           "showlegend": true,
           "textposition": "auto",
           "type": "bar",
           "x": [
            "Rural",
            "Rural",
            "Rural",
            "Rural",
            "Rural",
            "Rural",
            "Rural",
            "Rural",
            "Rural",
            "Rural",
            "Rural",
            "Rural",
            "Rural",
            "Rural",
            "Rural",
            "Rural",
            "Rural",
            "Rural",
            "Rural",
            "Rural",
            "Rural",
            "Rural",
            "Rural",
            "Rural",
            "Rural",
            "Rural",
            "Rural"
           ],
           "xaxis": "x",
           "y": [
            4.12,
            4.66,
            12.4,
            2.77,
            11.11,
            23.71,
            4.68,
            16.59,
            22.86,
            14.73,
            8.07,
            1.19,
            5,
            2.72,
            3.68,
            1.5,
            4.72,
            0,
            7.07,
            10.47,
            13.11,
            2.46,
            6.47,
            25.25,
            6.94,
            5.56,
            5.83
           ],
           "yaxis": "y"
          },
          {
           "alignmentgroup": "True",
           "hovertemplate": "Region=%{x}<br>Date= 30-11-2019<br>Estimated Unemployment Rate=%{y}<extra></extra>",
           "legendgroup": "Urban",
           "marker": {
            "color": "#00cc96",
            "pattern": {
             "shape": ""
            }
           },
           "name": "Urban",
           "offsetgroup": "Urban",
           "orientation": "v",
           "showlegend": true,
           "textposition": "auto",
           "type": "bar",
           "x": [
            "Urban",
            "Urban",
            "Urban",
            "Urban",
            "Urban",
            "Urban",
            "Urban",
            "Urban",
            "Urban",
            "Urban",
            "Urban",
            "Urban",
            "Urban",
            "Urban",
            "Urban",
            "Urban",
            "Urban",
            "Urban",
            "Urban",
            "Urban",
            "Urban",
            "Urban",
            "Urban",
            "Urban",
            "Urban",
            "Urban",
            "Urban",
            "Urban"
           ],
           "xaxis": "x",
           "y": [
            7.54,
            6.31,
            17.62,
            22.05,
            8.32,
            16.11,
            25.2,
            7.53,
            27.06,
            27.27,
            14.29,
            17.34,
            3.44,
            6.71,
            6.06,
            7.6,
            3.02,
            2.23,
            1.37,
            10.39,
            14.3,
            4.04,
            2.65,
            5.23,
            27.15,
            11.31,
            6.34,
            6.61
           ],
           "yaxis": "y"
          }
         ],
         "name": " 30-11-2019"
        },
        {
         "data": [
          {
           "alignmentgroup": "True",
           "hovertemplate": "Region=%{x}<br>Date= 31-12-2019<br>Estimated Unemployment Rate=%{y}<extra></extra>",
           "legendgroup": "Rural",
           "marker": {
            "color": "#636efa",
            "pattern": {
             "shape": ""
            }
           },
           "name": "Rural",
           "offsetgroup": "Rural",
           "orientation": "v",
           "showlegend": true,
           "textposition": "auto",
           "type": "bar",
           "x": [
            "Rural",
            "Rural",
            "Rural",
            "Rural",
            "Rural",
            "Rural",
            "Rural",
            "Rural",
            "Rural",
            "Rural",
            "Rural",
            "Rural",
            "Rural",
            "Rural",
            "Rural",
            "Rural",
            "Rural",
            "Rural",
            "Rural",
            "Rural",
            "Rural",
            "Rural",
            "Rural",
            "Rural",
            "Rural"
           ],
           "xaxis": "x",
           "y": [
            4.38,
            10.16,
            6.11,
            16.97,
            3.54,
            3.46,
            29.56,
            19.46,
            15.15,
            0.41,
            10.77,
            2.94,
            3.03,
            1.8,
            4.67,
            1.99,
            6.13,
            13.96,
            1,
            3.73,
            1.35,
            26.53,
            8.43,
            4.52,
            5.79
           ],
           "yaxis": "y"
          },
          {
           "alignmentgroup": "True",
           "hovertemplate": "Region=%{x}<br>Date= 31-12-2019<br>Estimated Unemployment Rate=%{y}<extra></extra>",
           "legendgroup": "Urban",
           "marker": {
            "color": "#00cc96",
            "pattern": {
             "shape": ""
            }
           },
           "name": "Urban",
           "offsetgroup": "Urban",
           "orientation": "v",
           "showlegend": true,
           "textposition": "auto",
           "type": "bar",
           "x": [
            "Urban",
            "Urban",
            "Urban",
            "Urban",
            "Urban",
            "Urban",
            "Urban",
            "Urban",
            "Urban",
            "Urban",
            "Urban",
            "Urban",
            "Urban",
            "Urban",
            "Urban",
            "Urban",
            "Urban",
            "Urban",
            "Urban",
            "Urban",
            "Urban",
            "Urban",
            "Urban",
            "Urban",
            "Urban",
            "Urban",
            "Urban",
            "Urban"
           ],
           "xaxis": "x",
           "y": [
            7.88,
            5.02,
            14.91,
            8.33,
            3.57,
            11.07,
            16.22,
            5.71,
            23.65,
            25.32,
            7.02,
            22.01,
            1.56,
            7.31,
            6.2,
            7.83,
            5.21,
            3.36,
            5.21,
            11.97,
            18.04,
            7.37,
            8.05,
            4.22,
            33.48,
            12.37,
            7.39,
            7.24
           ],
           "yaxis": "y"
          }
         ],
         "name": " 31-12-2019"
        },
        {
         "data": [
          {
           "alignmentgroup": "True",
           "hovertemplate": "Region=%{x}<br>Date= 31-01-2020<br>Estimated Unemployment Rate=%{y}<extra></extra>",
           "legendgroup": "Rural",
           "marker": {
            "color": "#636efa",
            "pattern": {
             "shape": ""
            }
           },
           "name": "Rural",
           "offsetgroup": "Rural",
           "orientation": "v",
           "showlegend": true,
           "textposition": "auto",
           "type": "bar",
           "x": [
            "Rural",
            "Rural",
            "Rural",
            "Rural",
            "Rural",
            "Rural",
            "Rural",
            "Rural",
            "Rural",
            "Rural",
            "Rural",
            "Rural",
            "Rural",
            "Rural",
            "Rural",
            "Rural",
            "Rural",
            "Rural",
            "Rural",
            "Rural",
            "Rural",
            "Rural",
            "Rural",
            "Rural",
            "Rural",
            "Rural"
           ],
           "xaxis": "x",
           "y": [
            4.84,
            4.29,
            9.13,
            9.89,
            13.48,
            5.38,
            5.35,
            16.21,
            16.67,
            22.19,
            6.16,
            2.57,
            4.11,
            3.66,
            3.8,
            0.97,
            1.81,
            0.58,
            9.69,
            8,
            1.18,
            5.02,
            31.91,
            6.06,
            4.17,
            6.79
           ],
           "yaxis": "y"
          },
          {
           "alignmentgroup": "True",
           "hovertemplate": "Region=%{x}<br>Date= 31-01-2020<br>Estimated Unemployment Rate=%{y}<extra></extra>",
           "legendgroup": "Urban",
           "marker": {
            "color": "#00cc96",
            "pattern": {
             "shape": ""
            }
           },
           "name": "Urban",
           "offsetgroup": "Urban",
           "orientation": "v",
           "showlegend": true,
           "textposition": "auto",
           "type": "bar",
           "x": [
            "Urban",
            "Urban",
            "Urban",
            "Urban",
            "Urban",
            "Urban",
            "Urban",
            "Urban",
            "Urban",
            "Urban",
            "Urban",
            "Urban",
            "Urban",
            "Urban",
            "Urban",
            "Urban",
            "Urban",
            "Urban",
            "Urban",
            "Urban",
            "Urban",
            "Urban",
            "Urban",
            "Urban",
            "Urban",
            "Urban",
            "Urban"
           ],
           "xaxis": "x",
           "y": [
            7.11,
            7.24,
            20.69,
            20,
            9.01,
            22.45,
            10.92,
            5.82,
            27.24,
            18.15,
            18.54,
            22.96,
            3.31,
            6.65,
            5.17,
            6.67,
            4.76,
            2.28,
            0.57,
            13.68,
            18.82,
            2.05,
            6.49,
            34.37,
            12.34,
            8.92,
            7.27
           ],
           "yaxis": "y"
          }
         ],
         "name": " 31-01-2020"
        },
        {
         "data": [
          {
           "alignmentgroup": "True",
           "hovertemplate": "Region=%{x}<br>Date= 29-02-2020<br>Estimated Unemployment Rate=%{y}<extra></extra>",
           "legendgroup": "Rural",
           "marker": {
            "color": "#636efa",
            "pattern": {
             "shape": ""
            }
           },
           "name": "Rural",
           "offsetgroup": "Rural",
           "orientation": "v",
           "showlegend": true,
           "textposition": "auto",
           "type": "bar",
           "x": [
            "Rural",
            "Rural",
            "Rural",
            "Rural",
            "Rural",
            "Rural",
            "Rural",
            "Rural",
            "Rural",
            "Rural",
            "Rural",
            "Rural",
            "Rural",
            "Rural",
            "Rural",
            "Rural",
            "Rural",
            "Rural",
            "Rural",
            "Rural",
            "Rural",
            "Rural",
            "Rural",
            "Rural",
            "Rural",
            "Rural"
           ],
           "xaxis": "x",
           "y": [
            5.91,
            3.26,
            9.61,
            7.89,
            13.81,
            0,
            6.64,
            27.19,
            15.42,
            21.23,
            9.06,
            4.11,
            8.91,
            4.42,
            4.24,
            2.76,
            3.31,
            1.74,
            10.41,
            14.48,
            1.17,
            9.02,
            26.22,
            8.12,
            4.85,
            3.78
           ],
           "yaxis": "y"
          },
          {
           "alignmentgroup": "True",
           "hovertemplate": "Region=%{x}<br>Date= 29-02-2020<br>Estimated Unemployment Rate=%{y}<extra></extra>",
           "legendgroup": "Urban",
           "marker": {
            "color": "#00cc96",
            "pattern": {
             "shape": ""
            }
           },
           "name": "Urban",
           "offsetgroup": "Urban",
           "orientation": "v",
           "showlegend": true,
           "textposition": "auto",
           "type": "bar",
           "x": [
            "Urban",
            "Urban",
            "Urban",
            "Urban",
            "Urban",
            "Urban",
            "Urban",
            "Urban",
            "Urban",
            "Urban",
            "Urban",
            "Urban",
            "Urban",
            "Urban",
            "Urban",
            "Urban",
            "Urban",
            "Urban",
            "Urban",
            "Urban",
            "Urban",
            "Urban",
            "Urban",
            "Urban",
            "Urban",
            "Urban",
            "Urban"
           ],
           "xaxis": "x",
           "y": [
            5.66,
            9.98,
            15.11,
            16.67,
            9.79,
            14.86,
            4.31,
            6.04,
            23.29,
            27.31,
            19.86,
            19.67,
            2.88,
            6.08,
            4.96,
            5.34,
            7.37,
            2.19,
            1.78,
            11.99,
            17.02,
            3.31,
            6.74,
            33.88,
            11.65,
            5.28,
            7.55
           ],
           "yaxis": "y"
          }
         ],
         "name": " 29-02-2020"
        },
        {
         "data": [
          {
           "alignmentgroup": "True",
           "hovertemplate": "Region=%{x}<br>Date= 31-03-2020<br>Estimated Unemployment Rate=%{y}<extra></extra>",
           "legendgroup": "Rural",
           "marker": {
            "color": "#636efa",
            "pattern": {
             "shape": ""
            }
           },
           "name": "Rural",
           "offsetgroup": "Rural",
           "orientation": "v",
           "showlegend": true,
           "textposition": "auto",
           "type": "bar",
           "x": [
            "Rural",
            "Rural",
            "Rural",
            "Rural",
            "Rural",
            "Rural",
            "Rural",
            "Rural",
            "Rural",
            "Rural",
            "Rural",
            "Rural",
            "Rural",
            "Rural",
            "Rural",
            "Rural",
            "Rural",
            "Rural",
            "Rural",
            "Rural",
            "Rural",
            "Rural",
            "Rural",
            "Rural"
           ],
           "xaxis": "x",
           "y": [
            4.06,
            3.77,
            15.39,
            7.31,
            15.18,
            7.59,
            23.92,
            17.71,
            16,
            5.01,
            2.39,
            8.85,
            1.19,
            5.38,
            1.28,
            15.09,
            2.31,
            10.51,
            9.47,
            6.36,
            5.63,
            31.61,
            9.37,
            7.02
           ],
           "yaxis": "y"
          },
          {
           "alignmentgroup": "True",
           "hovertemplate": "Region=%{x}<br>Date= 31-03-2020<br>Estimated Unemployment Rate=%{y}<extra></extra>",
           "legendgroup": "Urban",
           "marker": {
            "color": "#00cc96",
            "pattern": {
             "shape": ""
            }
           },
           "name": "Urban",
           "offsetgroup": "Urban",
           "orientation": "v",
           "showlegend": true,
           "textposition": "auto",
           "type": "bar",
           "x": [
            "Urban",
            "Urban",
            "Urban",
            "Urban",
            "Urban",
            "Urban",
            "Urban",
            "Urban",
            "Urban",
            "Urban",
            "Urban",
            "Urban",
            "Urban",
            "Urban",
            "Urban",
            "Urban",
            "Urban",
            "Urban",
            "Urban",
            "Urban",
            "Urban",
            "Urban",
            "Urban",
            "Urban",
            "Urban",
            "Urban",
            "Urban",
            "Urban"
           ],
           "xaxis": "x",
           "y": [
            9.88,
            10.34,
            15.73,
            21.43,
            8.21,
            17.09,
            4.76,
            5.39,
            27.14,
            26.44,
            14.29,
            16.4,
            4.92,
            9.14,
            4.8,
            6.34,
            2.8,
            3.96,
            0.62,
            9.97,
            18.54,
            20.45,
            6.46,
            6.1,
            25.69,
            12.32,
            8.15,
            6.67
           ],
           "yaxis": "y"
          }
         ],
         "name": " 31-03-2020"
        },
        {
         "data": [
          {
           "alignmentgroup": "True",
           "hovertemplate": "Region=%{x}<br>Date= 30-04-2020<br>Estimated Unemployment Rate=%{y}<extra></extra>",
           "legendgroup": "Rural",
           "marker": {
            "color": "#636efa",
            "pattern": {
             "shape": ""
            }
           },
           "name": "Rural",
           "offsetgroup": "Rural",
           "orientation": "v",
           "showlegend": true,
           "textposition": "auto",
           "type": "bar",
           "x": [
            "Rural",
            "Rural",
            "Rural",
            "Rural",
            "Rural",
            "Rural",
            "Rural",
            "Rural",
            "Rural",
            "Rural",
            "Rural",
            "Rural",
            "Rural",
            "Rural",
            "Rural",
            "Rural",
            "Rural",
            "Rural",
            "Rural",
            "Rural",
            "Rural",
            "Rural",
            "Rural",
            "Rural",
            "Rural"
           ],
           "xaxis": "x",
           "y": [
            16.29,
            45.09,
            0,
            20.69,
            15.91,
            12,
            41.61,
            2.13,
            41.72,
            33.17,
            10.71,
            12.5,
            25.28,
            8.38,
            24.48,
            74.51,
            3.69,
            12.25,
            0,
            53.19,
            4.51,
            43.64,
            19.92,
            3.66,
            18.32
           ],
           "yaxis": "y"
          },
          {
           "alignmentgroup": "True",
           "hovertemplate": "Region=%{x}<br>Date= 30-04-2020<br>Estimated Unemployment Rate=%{y}<extra></extra>",
           "legendgroup": "Urban",
           "marker": {
            "color": "#00cc96",
            "pattern": {
             "shape": ""
            }
           },
           "name": "Urban",
           "offsetgroup": "Urban",
           "orientation": "v",
           "showlegend": true,
           "textposition": "auto",
           "type": "bar",
           "x": [
            "Urban",
            "Urban",
            "Urban",
            "Urban",
            "Urban",
            "Urban",
            "Urban",
            "Urban",
            "Urban",
            "Urban",
            "Urban",
            "Urban",
            "Urban",
            "Urban",
            "Urban",
            "Urban",
            "Urban",
            "Urban",
            "Urban",
            "Urban",
            "Urban",
            "Urban",
            "Urban",
            "Urban",
            "Urban",
            "Urban"
           ],
           "xaxis": "x",
           "y": [
            32.3,
            8.37,
            58.77,
            20.13,
            16.51,
            11.76,
            25.94,
            46.89,
            2.7,
            61.48,
            25.12,
            21.43,
            11.94,
            14.99,
            17.39,
            20.5,
            76.74,
            1.13,
            35.53,
            5.77,
            45.55,
            10.5,
            34.88,
            26.94,
            13.18,
            15.63
           ],
           "yaxis": "y"
          }
         ],
         "name": " 30-04-2020"
        },
        {
         "data": [
          {
           "alignmentgroup": "True",
           "hovertemplate": "Region=%{x}<br>Date= 31-05-2020<br>Estimated Unemployment Rate=%{y}<extra></extra>",
           "legendgroup": "Rural",
           "marker": {
            "color": "#636efa",
            "pattern": {
             "shape": ""
            }
           },
           "name": "Rural",
           "offsetgroup": "Rural",
           "orientation": "v",
           "showlegend": true,
           "textposition": "auto",
           "type": "bar",
           "x": [
            "Rural",
            "Rural",
            "Rural",
            "Rural",
            "Rural",
            "Rural",
            "Rural",
            "Rural",
            "Rural",
            "Rural",
            "Rural",
            "Rural",
            "Rural",
            "Rural",
            "Rural",
            "Rural",
            "Rural",
            "Rural",
            "Rural",
            "Rural",
            "Rural",
            "Rural",
            "Rural",
            "Rural",
            "Rural"
           ],
           "xaxis": "x",
           "y": [
            14.46,
            9.38,
            47.26,
            7.64,
            22.76,
            20,
            14.58,
            34.22,
            25.64,
            2.22,
            55.1,
            23.72,
            23.38,
            22.46,
            16.89,
            3.73,
            9.45,
            40.59,
            10.45,
            38.73,
            34.01,
            14.71,
            16.89,
            3.57,
            18.43
           ],
           "yaxis": "y"
          },
          {
           "alignmentgroup": "True",
           "hovertemplate": "Region=%{x}<br>Date= 31-05-2020<br>Estimated Unemployment Rate=%{y}<extra></extra>",
           "legendgroup": "Urban",
           "marker": {
            "color": "#00cc96",
            "pattern": {
             "shape": ""
            }
           },
           "name": "Urban",
           "offsetgroup": "Urban",
           "orientation": "v",
           "showlegend": true,
           "textposition": "auto",
           "type": "bar",
           "x": [
            "Urban",
            "Urban",
            "Urban",
            "Urban",
            "Urban",
            "Urban",
            "Urban",
            "Urban",
            "Urban",
            "Urban",
            "Urban",
            "Urban",
            "Urban",
            "Urban",
            "Urban",
            "Urban",
            "Urban",
            "Urban",
            "Urban",
            "Urban",
            "Urban",
            "Urban",
            "Urban",
            "Urban",
            "Urban",
            "Urban"
           ],
           "xaxis": "x",
           "y": [
            24.91,
            10.77,
            37.87,
            24.1,
            45.78,
            11.62,
            38.46,
            50,
            12.96,
            70.17,
            15.88,
            30.28,
            40.49,
            15.92,
            14.58,
            10,
            75,
            20.54,
            25.35,
            19.75,
            25.95,
            36.57,
            16.78,
            32.06,
            17.36,
            15.22
           ],
           "yaxis": "y"
          }
         ],
         "name": " 31-05-2020"
        },
        {
         "data": [
          {
           "alignmentgroup": "True",
           "hovertemplate": "Region=%{x}<br>Date= 30-06-2020<br>Estimated Unemployment Rate=%{y}<extra></extra>",
           "legendgroup": "Rural",
           "marker": {
            "color": "#636efa",
            "pattern": {
             "shape": ""
            }
           },
           "name": "Rural",
           "offsetgroup": "Rural",
           "orientation": "v",
           "showlegend": true,
           "textposition": "auto",
           "type": "bar",
           "x": [
            "Rural",
            "Rural",
            "Rural",
            "Rural",
            "Rural",
            "Rural",
            "Rural",
            "Rural",
            "Rural",
            "Rural",
            "Rural",
            "Rural",
            "Rural",
            "Rural",
            "Rural",
            "Rural",
            "Rural",
            "Rural",
            "Rural",
            "Rural",
            "Rural",
            "Rural",
            "Rural",
            "Rural",
            "Rural"
           ],
           "xaxis": "x",
           "y": [
            0.85,
            0,
            20.49,
            10.14,
            21.14,
            1.41,
            35.57,
            1.12,
            18.97,
            21.53,
            10.92,
            27.66,
            6.46,
            9.4,
            1.35,
            4.59,
            20,
            13.86,
            5.81,
            2.06,
            19.3,
            18.84,
            8.51,
            10.71,
            4.94
           ],
           "yaxis": "y"
          },
          {
           "alignmentgroup": "True",
           "hovertemplate": "Region=%{x}<br>Date= 30-06-2020<br>Estimated Unemployment Rate=%{y}<extra></extra>",
           "legendgroup": "Urban",
           "marker": {
            "color": "#00cc96",
            "pattern": {
             "shape": ""
            }
           },
           "name": "Urban",
           "offsetgroup": "Urban",
           "orientation": "v",
           "showlegend": true,
           "textposition": "auto",
           "type": "bar",
           "x": [
            "Urban",
            "Urban",
            "Urban",
            "Urban",
            "Urban",
            "Urban",
            "Urban",
            "Urban",
            "Urban",
            "Urban",
            "Urban",
            "Urban",
            "Urban",
            "Urban",
            "Urban",
            "Urban",
            "Urban",
            "Urban",
            "Urban",
            "Urban",
            "Urban",
            "Urban",
            "Urban",
            "Urban",
            "Urban"
           ],
           "xaxis": "x",
           "y": [
            5.86,
            3.42,
            12.45,
            7.22,
            27.07,
            18.11,
            4.54,
            29.41,
            10.81,
            19.38,
            6.12,
            12.17,
            12.72,
            10.01,
            2.18,
            4.55,
            10.55,
            13.04,
            2.63,
            24.93,
            6.92,
            27.47,
            13.05,
            5.08,
            9.86
           ],
           "yaxis": "y"
          }
         ],
         "name": " 30-06-2020"
        }
       ],
       "layout": {
        "barmode": "relative",
        "legend": {
         "title": {
          "text": "Region"
         },
         "tracegroupgap": 0
        },
        "sliders": [
         {
          "active": 0,
          "currentvalue": {
           "prefix": "Date="
          },
          "len": 0.9,
          "pad": {
           "b": 10,
           "t": 60
          },
          "steps": [
           {
            "args": [
             [
              " 31-05-2019"
             ],
             {
              "frame": {
               "duration": 0,
               "redraw": true
              },
              "fromcurrent": true,
              "mode": "immediate",
              "transition": {
               "duration": 0,
               "easing": "linear"
              }
             }
            ],
            "label": " 31-05-2019",
            "method": "animate"
           },
           {
            "args": [
             [
              " 30-06-2019"
             ],
             {
              "frame": {
               "duration": 0,
               "redraw": true
              },
              "fromcurrent": true,
              "mode": "immediate",
              "transition": {
               "duration": 0,
               "easing": "linear"
              }
             }
            ],
            "label": " 30-06-2019",
            "method": "animate"
           },
           {
            "args": [
             [
              " 31-07-2019"
             ],
             {
              "frame": {
               "duration": 0,
               "redraw": true
              },
              "fromcurrent": true,
              "mode": "immediate",
              "transition": {
               "duration": 0,
               "easing": "linear"
              }
             }
            ],
            "label": " 31-07-2019",
            "method": "animate"
           },
           {
            "args": [
             [
              " 31-08-2019"
             ],
             {
              "frame": {
               "duration": 0,
               "redraw": true
              },
              "fromcurrent": true,
              "mode": "immediate",
              "transition": {
               "duration": 0,
               "easing": "linear"
              }
             }
            ],
            "label": " 31-08-2019",
            "method": "animate"
           },
           {
            "args": [
             [
              " 30-09-2019"
             ],
             {
              "frame": {
               "duration": 0,
               "redraw": true
              },
              "fromcurrent": true,
              "mode": "immediate",
              "transition": {
               "duration": 0,
               "easing": "linear"
              }
             }
            ],
            "label": " 30-09-2019",
            "method": "animate"
           },
           {
            "args": [
             [
              " 31-10-2019"
             ],
             {
              "frame": {
               "duration": 0,
               "redraw": true
              },
              "fromcurrent": true,
              "mode": "immediate",
              "transition": {
               "duration": 0,
               "easing": "linear"
              }
             }
            ],
            "label": " 31-10-2019",
            "method": "animate"
           },
           {
            "args": [
             [
              " 30-11-2019"
             ],
             {
              "frame": {
               "duration": 0,
               "redraw": true
              },
              "fromcurrent": true,
              "mode": "immediate",
              "transition": {
               "duration": 0,
               "easing": "linear"
              }
             }
            ],
            "label": " 30-11-2019",
            "method": "animate"
           },
           {
            "args": [
             [
              " 31-12-2019"
             ],
             {
              "frame": {
               "duration": 0,
               "redraw": true
              },
              "fromcurrent": true,
              "mode": "immediate",
              "transition": {
               "duration": 0,
               "easing": "linear"
              }
             }
            ],
            "label": " 31-12-2019",
            "method": "animate"
           },
           {
            "args": [
             [
              " 31-01-2020"
             ],
             {
              "frame": {
               "duration": 0,
               "redraw": true
              },
              "fromcurrent": true,
              "mode": "immediate",
              "transition": {
               "duration": 0,
               "easing": "linear"
              }
             }
            ],
            "label": " 31-01-2020",
            "method": "animate"
           },
           {
            "args": [
             [
              " 29-02-2020"
             ],
             {
              "frame": {
               "duration": 0,
               "redraw": true
              },
              "fromcurrent": true,
              "mode": "immediate",
              "transition": {
               "duration": 0,
               "easing": "linear"
              }
             }
            ],
            "label": " 29-02-2020",
            "method": "animate"
           },
           {
            "args": [
             [
              " 31-03-2020"
             ],
             {
              "frame": {
               "duration": 0,
               "redraw": true
              },
              "fromcurrent": true,
              "mode": "immediate",
              "transition": {
               "duration": 0,
               "easing": "linear"
              }
             }
            ],
            "label": " 31-03-2020",
            "method": "animate"
           },
           {
            "args": [
             [
              " 30-04-2020"
             ],
             {
              "frame": {
               "duration": 0,
               "redraw": true
              },
              "fromcurrent": true,
              "mode": "immediate",
              "transition": {
               "duration": 0,
               "easing": "linear"
              }
             }
            ],
            "label": " 30-04-2020",
            "method": "animate"
           },
           {
            "args": [
             [
              " 31-05-2020"
             ],
             {
              "frame": {
               "duration": 0,
               "redraw": true
              },
              "fromcurrent": true,
              "mode": "immediate",
              "transition": {
               "duration": 0,
               "easing": "linear"
              }
             }
            ],
            "label": " 31-05-2020",
            "method": "animate"
           },
           {
            "args": [
             [
              " 30-06-2020"
             ],
             {
              "frame": {
               "duration": 0,
               "redraw": true
              },
              "fromcurrent": true,
              "mode": "immediate",
              "transition": {
               "duration": 0,
               "easing": "linear"
              }
             }
            ],
            "label": " 30-06-2020",
            "method": "animate"
           }
          ],
          "x": 0.1,
          "xanchor": "left",
          "y": 0,
          "yanchor": "top"
         }
        ],
        "template": {
         "data": {
          "bar": [
           {
            "error_x": {
             "color": "#2a3f5f"
            },
            "error_y": {
             "color": "#2a3f5f"
            },
            "marker": {
             "line": {
              "color": "#E5ECF6",
              "width": 0.5
             },
             "pattern": {
              "fillmode": "overlay",
              "size": 10,
              "solidity": 0.2
             }
            },
            "type": "bar"
           }
          ],
          "barpolar": [
           {
            "marker": {
             "line": {
              "color": "#E5ECF6",
              "width": 0.5
             },
             "pattern": {
              "fillmode": "overlay",
              "size": 10,
              "solidity": 0.2
             }
            },
            "type": "barpolar"
           }
          ],
          "carpet": [
           {
            "aaxis": {
             "endlinecolor": "#2a3f5f",
             "gridcolor": "white",
             "linecolor": "white",
             "minorgridcolor": "white",
             "startlinecolor": "#2a3f5f"
            },
            "baxis": {
             "endlinecolor": "#2a3f5f",
             "gridcolor": "white",
             "linecolor": "white",
             "minorgridcolor": "white",
             "startlinecolor": "#2a3f5f"
            },
            "type": "carpet"
           }
          ],
          "choropleth": [
           {
            "colorbar": {
             "outlinewidth": 0,
             "ticks": ""
            },
            "type": "choropleth"
           }
          ],
          "contour": [
           {
            "colorbar": {
             "outlinewidth": 0,
             "ticks": ""
            },
            "colorscale": [
             [
              0,
              "#0d0887"
             ],
             [
              0.1111111111111111,
              "#46039f"
             ],
             [
              0.2222222222222222,
              "#7201a8"
             ],
             [
              0.3333333333333333,
              "#9c179e"
             ],
             [
              0.4444444444444444,
              "#bd3786"
             ],
             [
              0.5555555555555556,
              "#d8576b"
             ],
             [
              0.6666666666666666,
              "#ed7953"
             ],
             [
              0.7777777777777778,
              "#fb9f3a"
             ],
             [
              0.8888888888888888,
              "#fdca26"
             ],
             [
              1,
              "#f0f921"
             ]
            ],
            "type": "contour"
           }
          ],
          "contourcarpet": [
           {
            "colorbar": {
             "outlinewidth": 0,
             "ticks": ""
            },
            "type": "contourcarpet"
           }
          ],
          "heatmap": [
           {
            "colorbar": {
             "outlinewidth": 0,
             "ticks": ""
            },
            "colorscale": [
             [
              0,
              "#0d0887"
             ],
             [
              0.1111111111111111,
              "#46039f"
             ],
             [
              0.2222222222222222,
              "#7201a8"
             ],
             [
              0.3333333333333333,
              "#9c179e"
             ],
             [
              0.4444444444444444,
              "#bd3786"
             ],
             [
              0.5555555555555556,
              "#d8576b"
             ],
             [
              0.6666666666666666,
              "#ed7953"
             ],
             [
              0.7777777777777778,
              "#fb9f3a"
             ],
             [
              0.8888888888888888,
              "#fdca26"
             ],
             [
              1,
              "#f0f921"
             ]
            ],
            "type": "heatmap"
           }
          ],
          "heatmapgl": [
           {
            "colorbar": {
             "outlinewidth": 0,
             "ticks": ""
            },
            "colorscale": [
             [
              0,
              "#0d0887"
             ],
             [
              0.1111111111111111,
              "#46039f"
             ],
             [
              0.2222222222222222,
              "#7201a8"
             ],
             [
              0.3333333333333333,
              "#9c179e"
             ],
             [
              0.4444444444444444,
              "#bd3786"
             ],
             [
              0.5555555555555556,
              "#d8576b"
             ],
             [
              0.6666666666666666,
              "#ed7953"
             ],
             [
              0.7777777777777778,
              "#fb9f3a"
             ],
             [
              0.8888888888888888,
              "#fdca26"
             ],
             [
              1,
              "#f0f921"
             ]
            ],
            "type": "heatmapgl"
           }
          ],
          "histogram": [
           {
            "marker": {
             "pattern": {
              "fillmode": "overlay",
              "size": 10,
              "solidity": 0.2
             }
            },
            "type": "histogram"
           }
          ],
          "histogram2d": [
           {
            "colorbar": {
             "outlinewidth": 0,
             "ticks": ""
            },
            "colorscale": [
             [
              0,
              "#0d0887"
             ],
             [
              0.1111111111111111,
              "#46039f"
             ],
             [
              0.2222222222222222,
              "#7201a8"
             ],
             [
              0.3333333333333333,
              "#9c179e"
             ],
             [
              0.4444444444444444,
              "#bd3786"
             ],
             [
              0.5555555555555556,
              "#d8576b"
             ],
             [
              0.6666666666666666,
              "#ed7953"
             ],
             [
              0.7777777777777778,
              "#fb9f3a"
             ],
             [
              0.8888888888888888,
              "#fdca26"
             ],
             [
              1,
              "#f0f921"
             ]
            ],
            "type": "histogram2d"
           }
          ],
          "histogram2dcontour": [
           {
            "colorbar": {
             "outlinewidth": 0,
             "ticks": ""
            },
            "colorscale": [
             [
              0,
              "#0d0887"
             ],
             [
              0.1111111111111111,
              "#46039f"
             ],
             [
              0.2222222222222222,
              "#7201a8"
             ],
             [
              0.3333333333333333,
              "#9c179e"
             ],
             [
              0.4444444444444444,
              "#bd3786"
             ],
             [
              0.5555555555555556,
              "#d8576b"
             ],
             [
              0.6666666666666666,
              "#ed7953"
             ],
             [
              0.7777777777777778,
              "#fb9f3a"
             ],
             [
              0.8888888888888888,
              "#fdca26"
             ],
             [
              1,
              "#f0f921"
             ]
            ],
            "type": "histogram2dcontour"
           }
          ],
          "mesh3d": [
           {
            "colorbar": {
             "outlinewidth": 0,
             "ticks": ""
            },
            "type": "mesh3d"
           }
          ],
          "parcoords": [
           {
            "line": {
             "colorbar": {
              "outlinewidth": 0,
              "ticks": ""
             }
            },
            "type": "parcoords"
           }
          ],
          "pie": [
           {
            "automargin": true,
            "type": "pie"
           }
          ],
          "scatter": [
           {
            "fillpattern": {
             "fillmode": "overlay",
             "size": 10,
             "solidity": 0.2
            },
            "type": "scatter"
           }
          ],
          "scatter3d": [
           {
            "line": {
             "colorbar": {
              "outlinewidth": 0,
              "ticks": ""
             }
            },
            "marker": {
             "colorbar": {
              "outlinewidth": 0,
              "ticks": ""
             }
            },
            "type": "scatter3d"
           }
          ],
          "scattercarpet": [
           {
            "marker": {
             "colorbar": {
              "outlinewidth": 0,
              "ticks": ""
             }
            },
            "type": "scattercarpet"
           }
          ],
          "scattergeo": [
           {
            "marker": {
             "colorbar": {
              "outlinewidth": 0,
              "ticks": ""
             }
            },
            "type": "scattergeo"
           }
          ],
          "scattergl": [
           {
            "marker": {
             "colorbar": {
              "outlinewidth": 0,
              "ticks": ""
             }
            },
            "type": "scattergl"
           }
          ],
          "scattermapbox": [
           {
            "marker": {
             "colorbar": {
              "outlinewidth": 0,
              "ticks": ""
             }
            },
            "type": "scattermapbox"
           }
          ],
          "scatterpolar": [
           {
            "marker": {
             "colorbar": {
              "outlinewidth": 0,
              "ticks": ""
             }
            },
            "type": "scatterpolar"
           }
          ],
          "scatterpolargl": [
           {
            "marker": {
             "colorbar": {
              "outlinewidth": 0,
              "ticks": ""
             }
            },
            "type": "scatterpolargl"
           }
          ],
          "scatterternary": [
           {
            "marker": {
             "colorbar": {
              "outlinewidth": 0,
              "ticks": ""
             }
            },
            "type": "scatterternary"
           }
          ],
          "surface": [
           {
            "colorbar": {
             "outlinewidth": 0,
             "ticks": ""
            },
            "colorscale": [
             [
              0,
              "#0d0887"
             ],
             [
              0.1111111111111111,
              "#46039f"
             ],
             [
              0.2222222222222222,
              "#7201a8"
             ],
             [
              0.3333333333333333,
              "#9c179e"
             ],
             [
              0.4444444444444444,
              "#bd3786"
             ],
             [
              0.5555555555555556,
              "#d8576b"
             ],
             [
              0.6666666666666666,
              "#ed7953"
             ],
             [
              0.7777777777777778,
              "#fb9f3a"
             ],
             [
              0.8888888888888888,
              "#fdca26"
             ],
             [
              1,
              "#f0f921"
             ]
            ],
            "type": "surface"
           }
          ],
          "table": [
           {
            "cells": {
             "fill": {
              "color": "#EBF0F8"
             },
             "line": {
              "color": "white"
             }
            },
            "header": {
             "fill": {
              "color": "#C8D4E3"
             },
             "line": {
              "color": "white"
             }
            },
            "type": "table"
           }
          ]
         },
         "layout": {
          "annotationdefaults": {
           "arrowcolor": "#2a3f5f",
           "arrowhead": 0,
           "arrowwidth": 1
          },
          "autotypenumbers": "strict",
          "coloraxis": {
           "colorbar": {
            "outlinewidth": 0,
            "ticks": ""
           }
          },
          "colorscale": {
           "diverging": [
            [
             0,
             "#8e0152"
            ],
            [
             0.1,
             "#c51b7d"
            ],
            [
             0.2,
             "#de77ae"
            ],
            [
             0.3,
             "#f1b6da"
            ],
            [
             0.4,
             "#fde0ef"
            ],
            [
             0.5,
             "#f7f7f7"
            ],
            [
             0.6,
             "#e6f5d0"
            ],
            [
             0.7,
             "#b8e186"
            ],
            [
             0.8,
             "#7fbc41"
            ],
            [
             0.9,
             "#4d9221"
            ],
            [
             1,
             "#276419"
            ]
           ],
           "sequential": [
            [
             0,
             "#0d0887"
            ],
            [
             0.1111111111111111,
             "#46039f"
            ],
            [
             0.2222222222222222,
             "#7201a8"
            ],
            [
             0.3333333333333333,
             "#9c179e"
            ],
            [
             0.4444444444444444,
             "#bd3786"
            ],
            [
             0.5555555555555556,
             "#d8576b"
            ],
            [
             0.6666666666666666,
             "#ed7953"
            ],
            [
             0.7777777777777778,
             "#fb9f3a"
            ],
            [
             0.8888888888888888,
             "#fdca26"
            ],
            [
             1,
             "#f0f921"
            ]
           ],
           "sequentialminus": [
            [
             0,
             "#0d0887"
            ],
            [
             0.1111111111111111,
             "#46039f"
            ],
            [
             0.2222222222222222,
             "#7201a8"
            ],
            [
             0.3333333333333333,
             "#9c179e"
            ],
            [
             0.4444444444444444,
             "#bd3786"
            ],
            [
             0.5555555555555556,
             "#d8576b"
            ],
            [
             0.6666666666666666,
             "#ed7953"
            ],
            [
             0.7777777777777778,
             "#fb9f3a"
            ],
            [
             0.8888888888888888,
             "#fdca26"
            ],
            [
             1,
             "#f0f921"
            ]
           ]
          },
          "colorway": [
           "#636efa",
           "#EF553B",
           "#00cc96",
           "#ab63fa",
           "#FFA15A",
           "#19d3f3",
           "#FF6692",
           "#B6E880",
           "#FF97FF",
           "#FECB52"
          ],
          "font": {
           "color": "#2a3f5f"
          },
          "geo": {
           "bgcolor": "white",
           "lakecolor": "white",
           "landcolor": "#E5ECF6",
           "showlakes": true,
           "showland": true,
           "subunitcolor": "white"
          },
          "hoverlabel": {
           "align": "left"
          },
          "hovermode": "closest",
          "mapbox": {
           "style": "light"
          },
          "paper_bgcolor": "white",
          "plot_bgcolor": "#E5ECF6",
          "polar": {
           "angularaxis": {
            "gridcolor": "white",
            "linecolor": "white",
            "ticks": ""
           },
           "bgcolor": "#E5ECF6",
           "radialaxis": {
            "gridcolor": "white",
            "linecolor": "white",
            "ticks": ""
           }
          },
          "scene": {
           "xaxis": {
            "backgroundcolor": "#E5ECF6",
            "gridcolor": "white",
            "gridwidth": 2,
            "linecolor": "white",
            "showbackground": true,
            "ticks": "",
            "zerolinecolor": "white"
           },
           "yaxis": {
            "backgroundcolor": "#E5ECF6",
            "gridcolor": "white",
            "gridwidth": 2,
            "linecolor": "white",
            "showbackground": true,
            "ticks": "",
            "zerolinecolor": "white"
           },
           "zaxis": {
            "backgroundcolor": "#E5ECF6",
            "gridcolor": "white",
            "gridwidth": 2,
            "linecolor": "white",
            "showbackground": true,
            "ticks": "",
            "zerolinecolor": "white"
           }
          },
          "shapedefaults": {
           "line": {
            "color": "#2a3f5f"
           }
          },
          "ternary": {
           "aaxis": {
            "gridcolor": "white",
            "linecolor": "white",
            "ticks": ""
           },
           "baxis": {
            "gridcolor": "white",
            "linecolor": "white",
            "ticks": ""
           },
           "bgcolor": "#E5ECF6",
           "caxis": {
            "gridcolor": "white",
            "linecolor": "white",
            "ticks": ""
           }
          },
          "title": {
           "x": 0.05
          },
          "xaxis": {
           "automargin": true,
           "gridcolor": "white",
           "linecolor": "white",
           "ticks": "",
           "title": {
            "standoff": 15
           },
           "zerolinecolor": "white",
           "zerolinewidth": 2
          },
          "yaxis": {
           "automargin": true,
           "gridcolor": "white",
           "linecolor": "white",
           "ticks": "",
           "title": {
            "standoff": 15
           },
           "zerolinecolor": "white",
           "zerolinewidth": 2
          }
         }
        },
        "title": {
         "text": "Unemployment rate"
        },
        "updatemenus": [
         {
          "buttons": [
           {
            "args": [
             null,
             {
              "frame": {
               "duration": 500,
               "redraw": true
              },
              "fromcurrent": true,
              "mode": "immediate",
              "transition": {
               "duration": 500,
               "easing": "linear"
              }
             }
            ],
            "label": "&#9654;",
            "method": "animate"
           },
           {
            "args": [
             [
              null
             ],
             {
              "frame": {
               "duration": 0,
               "redraw": true
              },
              "fromcurrent": true,
              "mode": "immediate",
              "transition": {
               "duration": 0,
               "easing": "linear"
              }
             }
            ],
            "label": "&#9724;",
            "method": "animate"
           }
          ],
          "direction": "left",
          "pad": {
           "r": 10,
           "t": 70
          },
          "showactive": false,
          "type": "buttons",
          "x": 0.1,
          "xanchor": "right",
          "y": 0,
          "yanchor": "top"
         }
        ],
        "xaxis": {
         "anchor": "y",
         "categoryarray": [
          "Rural",
          null,
          "Urban"
         ],
         "categoryorder": "total descending",
         "domain": [
          0,
          1
         ],
         "title": {
          "text": "Region"
         }
        },
        "yaxis": {
         "anchor": "x",
         "domain": [
          0,
          1
         ],
         "title": {
          "text": "Estimated Unemployment Rate"
         }
        }
       }
      },
      "text/html": [
       "<div>                            <div id=\"f5b590e7-2bd2-4b16-a0f9-fe03378a99e9\" class=\"plotly-graph-div\" style=\"height:525px; width:100%;\"></div>            <script type=\"text/javascript\">                require([\"plotly\"], function(Plotly) {                    window.PLOTLYENV=window.PLOTLYENV || {};                                    if (document.getElementById(\"f5b590e7-2bd2-4b16-a0f9-fe03378a99e9\")) {                    Plotly.newPlot(                        \"f5b590e7-2bd2-4b16-a0f9-fe03378a99e9\",                        [{\"alignmentgroup\":\"True\",\"hovertemplate\":\"Region=%{x}<br>Date= 31-05-2019<br>Estimated Unemployment Rate=%{y}<extra></extra>\",\"legendgroup\":\"Rural\",\"marker\":{\"color\":\"#636efa\",\"pattern\":{\"shape\":\"\"}},\"name\":\"Rural\",\"offsetgroup\":\"Rural\",\"orientation\":\"v\",\"showlegend\":true,\"textposition\":\"auto\",\"x\":[\"Rural\",\"Rural\",\"Rural\",\"Rural\",\"Rural\",\"Rural\",\"Rural\",\"Rural\",\"Rural\",\"Rural\",\"Rural\",\"Rural\",\"Rural\",\"Rural\",\"Rural\",\"Rural\",\"Rural\",\"Rural\",\"Rural\",\"Rural\",\"Rural\",\"Rural\",\"Rural\",\"Rural\",\"Rural\",\"Rural\"],\"xaxis\":\"x\",\"y\":[3.65,4.29,9.27,9.82,12.56,2.91,2.88,14.54,13.68,12.78,7.11,5.46,6.63,3.63,3.67,3.16,4.17,0.0,9.17,4.03,0.97,2.23,29.25,10.26,1.63,6.02],\"yaxis\":\"y\",\"type\":\"bar\"},{\"alignmentgroup\":\"True\",\"hovertemplate\":\"Region=%{x}<br>Date= 31-05-2019<br>Estimated Unemployment Rate=%{y}<extra></extra>\",\"legendgroup\":\"Urban\",\"marker\":{\"color\":\"#00cc96\",\"pattern\":{\"shape\":\"\"}},\"name\":\"Urban\",\"offsetgroup\":\"Urban\",\"orientation\":\"v\",\"showlegend\":true,\"textposition\":\"auto\",\"x\":[\"Urban\",\"Urban\",\"Urban\",\"Urban\",\"Urban\",\"Urban\",\"Urban\",\"Urban\",\"Urban\",\"Urban\",\"Urban\",\"Urban\",\"Urban\",\"Urban\",\"Urban\",\"Urban\",\"Urban\",\"Urban\",\"Urban\",\"Urban\",\"Urban\",\"Urban\",\"Urban\",\"Urban\",\"Urban\",\"Urban\",\"Urban\",\"Urban\"],\"xaxis\":\"x\",\"y\":[6.09,7.87,19.9,18.35,9.77,12.31,2.75,4.09,24.67,10.88,23.04,17.23,6.56,6.11,3.91,6.08,8.4,2.95,1.25,13.49,13.62,8.2,0.89,1.52,34.69,14.4,9.17,7.25],\"yaxis\":\"y\",\"type\":\"bar\"}],                        {\"template\":{\"data\":{\"histogram2dcontour\":[{\"type\":\"histogram2dcontour\",\"colorbar\":{\"outlinewidth\":0,\"ticks\":\"\"},\"colorscale\":[[0.0,\"#0d0887\"],[0.1111111111111111,\"#46039f\"],[0.2222222222222222,\"#7201a8\"],[0.3333333333333333,\"#9c179e\"],[0.4444444444444444,\"#bd3786\"],[0.5555555555555556,\"#d8576b\"],[0.6666666666666666,\"#ed7953\"],[0.7777777777777778,\"#fb9f3a\"],[0.8888888888888888,\"#fdca26\"],[1.0,\"#f0f921\"]]}],\"choropleth\":[{\"type\":\"choropleth\",\"colorbar\":{\"outlinewidth\":0,\"ticks\":\"\"}}],\"histogram2d\":[{\"type\":\"histogram2d\",\"colorbar\":{\"outlinewidth\":0,\"ticks\":\"\"},\"colorscale\":[[0.0,\"#0d0887\"],[0.1111111111111111,\"#46039f\"],[0.2222222222222222,\"#7201a8\"],[0.3333333333333333,\"#9c179e\"],[0.4444444444444444,\"#bd3786\"],[0.5555555555555556,\"#d8576b\"],[0.6666666666666666,\"#ed7953\"],[0.7777777777777778,\"#fb9f3a\"],[0.8888888888888888,\"#fdca26\"],[1.0,\"#f0f921\"]]}],\"heatmap\":[{\"type\":\"heatmap\",\"colorbar\":{\"outlinewidth\":0,\"ticks\":\"\"},\"colorscale\":[[0.0,\"#0d0887\"],[0.1111111111111111,\"#46039f\"],[0.2222222222222222,\"#7201a8\"],[0.3333333333333333,\"#9c179e\"],[0.4444444444444444,\"#bd3786\"],[0.5555555555555556,\"#d8576b\"],[0.6666666666666666,\"#ed7953\"],[0.7777777777777778,\"#fb9f3a\"],[0.8888888888888888,\"#fdca26\"],[1.0,\"#f0f921\"]]}],\"heatmapgl\":[{\"type\":\"heatmapgl\",\"colorbar\":{\"outlinewidth\":0,\"ticks\":\"\"},\"colorscale\":[[0.0,\"#0d0887\"],[0.1111111111111111,\"#46039f\"],[0.2222222222222222,\"#7201a8\"],[0.3333333333333333,\"#9c179e\"],[0.4444444444444444,\"#bd3786\"],[0.5555555555555556,\"#d8576b\"],[0.6666666666666666,\"#ed7953\"],[0.7777777777777778,\"#fb9f3a\"],[0.8888888888888888,\"#fdca26\"],[1.0,\"#f0f921\"]]}],\"contourcarpet\":[{\"type\":\"contourcarpet\",\"colorbar\":{\"outlinewidth\":0,\"ticks\":\"\"}}],\"contour\":[{\"type\":\"contour\",\"colorbar\":{\"outlinewidth\":0,\"ticks\":\"\"},\"colorscale\":[[0.0,\"#0d0887\"],[0.1111111111111111,\"#46039f\"],[0.2222222222222222,\"#7201a8\"],[0.3333333333333333,\"#9c179e\"],[0.4444444444444444,\"#bd3786\"],[0.5555555555555556,\"#d8576b\"],[0.6666666666666666,\"#ed7953\"],[0.7777777777777778,\"#fb9f3a\"],[0.8888888888888888,\"#fdca26\"],[1.0,\"#f0f921\"]]}],\"surface\":[{\"type\":\"surface\",\"colorbar\":{\"outlinewidth\":0,\"ticks\":\"\"},\"colorscale\":[[0.0,\"#0d0887\"],[0.1111111111111111,\"#46039f\"],[0.2222222222222222,\"#7201a8\"],[0.3333333333333333,\"#9c179e\"],[0.4444444444444444,\"#bd3786\"],[0.5555555555555556,\"#d8576b\"],[0.6666666666666666,\"#ed7953\"],[0.7777777777777778,\"#fb9f3a\"],[0.8888888888888888,\"#fdca26\"],[1.0,\"#f0f921\"]]}],\"mesh3d\":[{\"type\":\"mesh3d\",\"colorbar\":{\"outlinewidth\":0,\"ticks\":\"\"}}],\"scatter\":[{\"fillpattern\":{\"fillmode\":\"overlay\",\"size\":10,\"solidity\":0.2},\"type\":\"scatter\"}],\"parcoords\":[{\"type\":\"parcoords\",\"line\":{\"colorbar\":{\"outlinewidth\":0,\"ticks\":\"\"}}}],\"scatterpolargl\":[{\"type\":\"scatterpolargl\",\"marker\":{\"colorbar\":{\"outlinewidth\":0,\"ticks\":\"\"}}}],\"bar\":[{\"error_x\":{\"color\":\"#2a3f5f\"},\"error_y\":{\"color\":\"#2a3f5f\"},\"marker\":{\"line\":{\"color\":\"#E5ECF6\",\"width\":0.5},\"pattern\":{\"fillmode\":\"overlay\",\"size\":10,\"solidity\":0.2}},\"type\":\"bar\"}],\"scattergeo\":[{\"type\":\"scattergeo\",\"marker\":{\"colorbar\":{\"outlinewidth\":0,\"ticks\":\"\"}}}],\"scatterpolar\":[{\"type\":\"scatterpolar\",\"marker\":{\"colorbar\":{\"outlinewidth\":0,\"ticks\":\"\"}}}],\"histogram\":[{\"marker\":{\"pattern\":{\"fillmode\":\"overlay\",\"size\":10,\"solidity\":0.2}},\"type\":\"histogram\"}],\"scattergl\":[{\"type\":\"scattergl\",\"marker\":{\"colorbar\":{\"outlinewidth\":0,\"ticks\":\"\"}}}],\"scatter3d\":[{\"type\":\"scatter3d\",\"line\":{\"colorbar\":{\"outlinewidth\":0,\"ticks\":\"\"}},\"marker\":{\"colorbar\":{\"outlinewidth\":0,\"ticks\":\"\"}}}],\"scattermapbox\":[{\"type\":\"scattermapbox\",\"marker\":{\"colorbar\":{\"outlinewidth\":0,\"ticks\":\"\"}}}],\"scatterternary\":[{\"type\":\"scatterternary\",\"marker\":{\"colorbar\":{\"outlinewidth\":0,\"ticks\":\"\"}}}],\"scattercarpet\":[{\"type\":\"scattercarpet\",\"marker\":{\"colorbar\":{\"outlinewidth\":0,\"ticks\":\"\"}}}],\"carpet\":[{\"aaxis\":{\"endlinecolor\":\"#2a3f5f\",\"gridcolor\":\"white\",\"linecolor\":\"white\",\"minorgridcolor\":\"white\",\"startlinecolor\":\"#2a3f5f\"},\"baxis\":{\"endlinecolor\":\"#2a3f5f\",\"gridcolor\":\"white\",\"linecolor\":\"white\",\"minorgridcolor\":\"white\",\"startlinecolor\":\"#2a3f5f\"},\"type\":\"carpet\"}],\"table\":[{\"cells\":{\"fill\":{\"color\":\"#EBF0F8\"},\"line\":{\"color\":\"white\"}},\"header\":{\"fill\":{\"color\":\"#C8D4E3\"},\"line\":{\"color\":\"white\"}},\"type\":\"table\"}],\"barpolar\":[{\"marker\":{\"line\":{\"color\":\"#E5ECF6\",\"width\":0.5},\"pattern\":{\"fillmode\":\"overlay\",\"size\":10,\"solidity\":0.2}},\"type\":\"barpolar\"}],\"pie\":[{\"automargin\":true,\"type\":\"pie\"}]},\"layout\":{\"autotypenumbers\":\"strict\",\"colorway\":[\"#636efa\",\"#EF553B\",\"#00cc96\",\"#ab63fa\",\"#FFA15A\",\"#19d3f3\",\"#FF6692\",\"#B6E880\",\"#FF97FF\",\"#FECB52\"],\"font\":{\"color\":\"#2a3f5f\"},\"hovermode\":\"closest\",\"hoverlabel\":{\"align\":\"left\"},\"paper_bgcolor\":\"white\",\"plot_bgcolor\":\"#E5ECF6\",\"polar\":{\"bgcolor\":\"#E5ECF6\",\"angularaxis\":{\"gridcolor\":\"white\",\"linecolor\":\"white\",\"ticks\":\"\"},\"radialaxis\":{\"gridcolor\":\"white\",\"linecolor\":\"white\",\"ticks\":\"\"}},\"ternary\":{\"bgcolor\":\"#E5ECF6\",\"aaxis\":{\"gridcolor\":\"white\",\"linecolor\":\"white\",\"ticks\":\"\"},\"baxis\":{\"gridcolor\":\"white\",\"linecolor\":\"white\",\"ticks\":\"\"},\"caxis\":{\"gridcolor\":\"white\",\"linecolor\":\"white\",\"ticks\":\"\"}},\"coloraxis\":{\"colorbar\":{\"outlinewidth\":0,\"ticks\":\"\"}},\"colorscale\":{\"sequential\":[[0.0,\"#0d0887\"],[0.1111111111111111,\"#46039f\"],[0.2222222222222222,\"#7201a8\"],[0.3333333333333333,\"#9c179e\"],[0.4444444444444444,\"#bd3786\"],[0.5555555555555556,\"#d8576b\"],[0.6666666666666666,\"#ed7953\"],[0.7777777777777778,\"#fb9f3a\"],[0.8888888888888888,\"#fdca26\"],[1.0,\"#f0f921\"]],\"sequentialminus\":[[0.0,\"#0d0887\"],[0.1111111111111111,\"#46039f\"],[0.2222222222222222,\"#7201a8\"],[0.3333333333333333,\"#9c179e\"],[0.4444444444444444,\"#bd3786\"],[0.5555555555555556,\"#d8576b\"],[0.6666666666666666,\"#ed7953\"],[0.7777777777777778,\"#fb9f3a\"],[0.8888888888888888,\"#fdca26\"],[1.0,\"#f0f921\"]],\"diverging\":[[0,\"#8e0152\"],[0.1,\"#c51b7d\"],[0.2,\"#de77ae\"],[0.3,\"#f1b6da\"],[0.4,\"#fde0ef\"],[0.5,\"#f7f7f7\"],[0.6,\"#e6f5d0\"],[0.7,\"#b8e186\"],[0.8,\"#7fbc41\"],[0.9,\"#4d9221\"],[1,\"#276419\"]]},\"xaxis\":{\"gridcolor\":\"white\",\"linecolor\":\"white\",\"ticks\":\"\",\"title\":{\"standoff\":15},\"zerolinecolor\":\"white\",\"automargin\":true,\"zerolinewidth\":2},\"yaxis\":{\"gridcolor\":\"white\",\"linecolor\":\"white\",\"ticks\":\"\",\"title\":{\"standoff\":15},\"zerolinecolor\":\"white\",\"automargin\":true,\"zerolinewidth\":2},\"scene\":{\"xaxis\":{\"backgroundcolor\":\"#E5ECF6\",\"gridcolor\":\"white\",\"linecolor\":\"white\",\"showbackground\":true,\"ticks\":\"\",\"zerolinecolor\":\"white\",\"gridwidth\":2},\"yaxis\":{\"backgroundcolor\":\"#E5ECF6\",\"gridcolor\":\"white\",\"linecolor\":\"white\",\"showbackground\":true,\"ticks\":\"\",\"zerolinecolor\":\"white\",\"gridwidth\":2},\"zaxis\":{\"backgroundcolor\":\"#E5ECF6\",\"gridcolor\":\"white\",\"linecolor\":\"white\",\"showbackground\":true,\"ticks\":\"\",\"zerolinecolor\":\"white\",\"gridwidth\":2}},\"shapedefaults\":{\"line\":{\"color\":\"#2a3f5f\"}},\"annotationdefaults\":{\"arrowcolor\":\"#2a3f5f\",\"arrowhead\":0,\"arrowwidth\":1},\"geo\":{\"bgcolor\":\"white\",\"landcolor\":\"#E5ECF6\",\"subunitcolor\":\"white\",\"showland\":true,\"showlakes\":true,\"lakecolor\":\"white\"},\"title\":{\"x\":0.05},\"mapbox\":{\"style\":\"light\"}}},\"xaxis\":{\"anchor\":\"y\",\"domain\":[0.0,1.0],\"title\":{\"text\":\"Region\"},\"categoryorder\":\"total descending\",\"categoryarray\":[\"Rural\",null,\"Urban\"]},\"yaxis\":{\"anchor\":\"x\",\"domain\":[0.0,1.0],\"title\":{\"text\":\"Estimated Unemployment Rate\"}},\"legend\":{\"title\":{\"text\":\"Region\"},\"tracegroupgap\":0},\"title\":{\"text\":\"Unemployment rate\"},\"barmode\":\"relative\",\"updatemenus\":[{\"buttons\":[{\"args\":[null,{\"frame\":{\"duration\":500,\"redraw\":true},\"mode\":\"immediate\",\"fromcurrent\":true,\"transition\":{\"duration\":500,\"easing\":\"linear\"}}],\"label\":\"&#9654;\",\"method\":\"animate\"},{\"args\":[[null],{\"frame\":{\"duration\":0,\"redraw\":true},\"mode\":\"immediate\",\"fromcurrent\":true,\"transition\":{\"duration\":0,\"easing\":\"linear\"}}],\"label\":\"&#9724;\",\"method\":\"animate\"}],\"direction\":\"left\",\"pad\":{\"r\":10,\"t\":70},\"showactive\":false,\"type\":\"buttons\",\"x\":0.1,\"xanchor\":\"right\",\"y\":0,\"yanchor\":\"top\"}],\"sliders\":[{\"active\":0,\"currentvalue\":{\"prefix\":\"Date=\"},\"len\":0.9,\"pad\":{\"b\":10,\"t\":60},\"steps\":[{\"args\":[[\" 31-05-2019\"],{\"frame\":{\"duration\":0,\"redraw\":true},\"mode\":\"immediate\",\"fromcurrent\":true,\"transition\":{\"duration\":0,\"easing\":\"linear\"}}],\"label\":\" 31-05-2019\",\"method\":\"animate\"},{\"args\":[[\" 30-06-2019\"],{\"frame\":{\"duration\":0,\"redraw\":true},\"mode\":\"immediate\",\"fromcurrent\":true,\"transition\":{\"duration\":0,\"easing\":\"linear\"}}],\"label\":\" 30-06-2019\",\"method\":\"animate\"},{\"args\":[[\" 31-07-2019\"],{\"frame\":{\"duration\":0,\"redraw\":true},\"mode\":\"immediate\",\"fromcurrent\":true,\"transition\":{\"duration\":0,\"easing\":\"linear\"}}],\"label\":\" 31-07-2019\",\"method\":\"animate\"},{\"args\":[[\" 31-08-2019\"],{\"frame\":{\"duration\":0,\"redraw\":true},\"mode\":\"immediate\",\"fromcurrent\":true,\"transition\":{\"duration\":0,\"easing\":\"linear\"}}],\"label\":\" 31-08-2019\",\"method\":\"animate\"},{\"args\":[[\" 30-09-2019\"],{\"frame\":{\"duration\":0,\"redraw\":true},\"mode\":\"immediate\",\"fromcurrent\":true,\"transition\":{\"duration\":0,\"easing\":\"linear\"}}],\"label\":\" 30-09-2019\",\"method\":\"animate\"},{\"args\":[[\" 31-10-2019\"],{\"frame\":{\"duration\":0,\"redraw\":true},\"mode\":\"immediate\",\"fromcurrent\":true,\"transition\":{\"duration\":0,\"easing\":\"linear\"}}],\"label\":\" 31-10-2019\",\"method\":\"animate\"},{\"args\":[[\" 30-11-2019\"],{\"frame\":{\"duration\":0,\"redraw\":true},\"mode\":\"immediate\",\"fromcurrent\":true,\"transition\":{\"duration\":0,\"easing\":\"linear\"}}],\"label\":\" 30-11-2019\",\"method\":\"animate\"},{\"args\":[[\" 31-12-2019\"],{\"frame\":{\"duration\":0,\"redraw\":true},\"mode\":\"immediate\",\"fromcurrent\":true,\"transition\":{\"duration\":0,\"easing\":\"linear\"}}],\"label\":\" 31-12-2019\",\"method\":\"animate\"},{\"args\":[[\" 31-01-2020\"],{\"frame\":{\"duration\":0,\"redraw\":true},\"mode\":\"immediate\",\"fromcurrent\":true,\"transition\":{\"duration\":0,\"easing\":\"linear\"}}],\"label\":\" 31-01-2020\",\"method\":\"animate\"},{\"args\":[[\" 29-02-2020\"],{\"frame\":{\"duration\":0,\"redraw\":true},\"mode\":\"immediate\",\"fromcurrent\":true,\"transition\":{\"duration\":0,\"easing\":\"linear\"}}],\"label\":\" 29-02-2020\",\"method\":\"animate\"},{\"args\":[[\" 31-03-2020\"],{\"frame\":{\"duration\":0,\"redraw\":true},\"mode\":\"immediate\",\"fromcurrent\":true,\"transition\":{\"duration\":0,\"easing\":\"linear\"}}],\"label\":\" 31-03-2020\",\"method\":\"animate\"},{\"args\":[[\" 30-04-2020\"],{\"frame\":{\"duration\":0,\"redraw\":true},\"mode\":\"immediate\",\"fromcurrent\":true,\"transition\":{\"duration\":0,\"easing\":\"linear\"}}],\"label\":\" 30-04-2020\",\"method\":\"animate\"},{\"args\":[[\" 31-05-2020\"],{\"frame\":{\"duration\":0,\"redraw\":true},\"mode\":\"immediate\",\"fromcurrent\":true,\"transition\":{\"duration\":0,\"easing\":\"linear\"}}],\"label\":\" 31-05-2020\",\"method\":\"animate\"},{\"args\":[[\" 30-06-2020\"],{\"frame\":{\"duration\":0,\"redraw\":true},\"mode\":\"immediate\",\"fromcurrent\":true,\"transition\":{\"duration\":0,\"easing\":\"linear\"}}],\"label\":\" 30-06-2020\",\"method\":\"animate\"}],\"x\":0.1,\"xanchor\":\"left\",\"y\":0,\"yanchor\":\"top\"}]},                        {\"responsive\": true}                    ).then(function(){\n",
       "                            Plotly.addFrames('f5b590e7-2bd2-4b16-a0f9-fe03378a99e9', [{\"data\":[{\"alignmentgroup\":\"True\",\"hovertemplate\":\"Region=%{x}<br>Date= 31-05-2019<br>Estimated Unemployment Rate=%{y}<extra></extra>\",\"legendgroup\":\"Rural\",\"marker\":{\"color\":\"#636efa\",\"pattern\":{\"shape\":\"\"}},\"name\":\"Rural\",\"offsetgroup\":\"Rural\",\"orientation\":\"v\",\"showlegend\":true,\"textposition\":\"auto\",\"x\":[\"Rural\",\"Rural\",\"Rural\",\"Rural\",\"Rural\",\"Rural\",\"Rural\",\"Rural\",\"Rural\",\"Rural\",\"Rural\",\"Rural\",\"Rural\",\"Rural\",\"Rural\",\"Rural\",\"Rural\",\"Rural\",\"Rural\",\"Rural\",\"Rural\",\"Rural\",\"Rural\",\"Rural\",\"Rural\",\"Rural\"],\"xaxis\":\"x\",\"y\":[3.65,4.29,9.27,9.82,12.56,2.91,2.88,14.54,13.68,12.78,7.11,5.46,6.63,3.63,3.67,3.16,4.17,0.0,9.17,4.03,0.97,2.23,29.25,10.26,1.63,6.02],\"yaxis\":\"y\",\"type\":\"bar\"},{\"alignmentgroup\":\"True\",\"hovertemplate\":\"Region=%{x}<br>Date= 31-05-2019<br>Estimated Unemployment Rate=%{y}<extra></extra>\",\"legendgroup\":\"Urban\",\"marker\":{\"color\":\"#00cc96\",\"pattern\":{\"shape\":\"\"}},\"name\":\"Urban\",\"offsetgroup\":\"Urban\",\"orientation\":\"v\",\"showlegend\":true,\"textposition\":\"auto\",\"x\":[\"Urban\",\"Urban\",\"Urban\",\"Urban\",\"Urban\",\"Urban\",\"Urban\",\"Urban\",\"Urban\",\"Urban\",\"Urban\",\"Urban\",\"Urban\",\"Urban\",\"Urban\",\"Urban\",\"Urban\",\"Urban\",\"Urban\",\"Urban\",\"Urban\",\"Urban\",\"Urban\",\"Urban\",\"Urban\",\"Urban\",\"Urban\",\"Urban\"],\"xaxis\":\"x\",\"y\":[6.09,7.87,19.9,18.35,9.77,12.31,2.75,4.09,24.67,10.88,23.04,17.23,6.56,6.11,3.91,6.08,8.4,2.95,1.25,13.49,13.62,8.2,0.89,1.52,34.69,14.4,9.17,7.25],\"yaxis\":\"y\",\"type\":\"bar\"}],\"name\":\" 31-05-2019\"},{\"data\":[{\"alignmentgroup\":\"True\",\"hovertemplate\":\"Region=%{x}<br>Date= 30-06-2019<br>Estimated Unemployment Rate=%{y}<extra></extra>\",\"legendgroup\":\"Rural\",\"marker\":{\"color\":\"#636efa\",\"pattern\":{\"shape\":\"\"}},\"name\":\"Rural\",\"offsetgroup\":\"Rural\",\"orientation\":\"v\",\"showlegend\":true,\"textposition\":\"auto\",\"x\":[\"Rural\",\"Rural\",\"Rural\",\"Rural\",\"Rural\",\"Rural\",\"Rural\",\"Rural\",\"Rural\",\"Rural\",\"Rural\",\"Rural\",\"Rural\",\"Rural\",\"Rural\",\"Rural\",\"Rural\",\"Rural\",\"Rural\",\"Rural\",\"Rural\",\"Rural\",\"Rural\",\"Rural\",\"Rural\",\"Rural\"],\"xaxis\":\"x\",\"y\":[3.05,5.08,10.2,6.76,9.33,5.45,4.77,23.08,11.43,12.09,8.46,5.98,9.0,4.25,4.34,4.23,4.71,0.0,12.21,13.7,0.92,5.92,26.64,11.13,4.65,5.85],\"yaxis\":\"y\",\"type\":\"bar\"},{\"alignmentgroup\":\"True\",\"hovertemplate\":\"Region=%{x}<br>Date= 30-06-2019<br>Estimated Unemployment Rate=%{y}<extra></extra>\",\"legendgroup\":\"Urban\",\"marker\":{\"color\":\"#00cc96\",\"pattern\":{\"shape\":\"\"}},\"name\":\"Urban\",\"offsetgroup\":\"Urban\",\"orientation\":\"v\",\"showlegend\":true,\"textposition\":\"auto\",\"x\":[\"Urban\",\"Urban\",\"Urban\",\"Urban\",\"Urban\",\"Urban\",\"Urban\",\"Urban\",\"Urban\",\"Urban\",\"Urban\",\"Urban\",\"Urban\",\"Urban\",\"Urban\",\"Urban\",\"Urban\",\"Urban\",\"Urban\",\"Urban\",\"Urban\",\"Urban\",\"Urban\",\"Urban\",\"Urban\",\"Urban\",\"Urban\",\"Urban\"],\"xaxis\":\"x\",\"y\":[3.8,9.89,13.29,12.4,11.77,12.76,13.33,6.31,20.42,21.43,19.88,20.51,5.0,6.67,6.38,6.46,8.66,2.63,0.0,13.17,14.36,7.76,1.56,1.43,25.59,11.62,4.69,7.38],\"yaxis\":\"y\",\"type\":\"bar\"}],\"name\":\" 30-06-2019\"},{\"data\":[{\"alignmentgroup\":\"True\",\"hovertemplate\":\"Region=%{x}<br>Date= 31-07-2019<br>Estimated Unemployment Rate=%{y}<extra></extra>\",\"legendgroup\":\"Rural\",\"marker\":{\"color\":\"#636efa\",\"pattern\":{\"shape\":\"\"}},\"name\":\"Rural\",\"offsetgroup\":\"Rural\",\"orientation\":\"v\",\"showlegend\":true,\"textposition\":\"auto\",\"x\":[\"Rural\",\"Rural\",\"Rural\",\"Rural\",\"Rural\",\"Rural\",\"Rural\",\"Rural\",\"Rural\",\"Rural\",\"Rural\",\"Rural\",\"Rural\",\"Rural\",\"Rural\",\"Rural\",\"Rural\",\"Rural\",\"Rural\",\"Rural\",\"Rural\",\"Rural\",\"Rural\",\"Rural\",\"Rural\",\"Rural\"],\"xaxis\":\"x\",\"y\":[3.75,4.26,13.44,4.54,11.07,10.98,4.58,16.22,20.59,13.67,9.98,0.52,4.95,3.92,3.66,1.03,3.31,0.0,9.64,9.7,6.01,2.45,22.47,9.19,5.74,5.62],\"yaxis\":\"y\",\"type\":\"bar\"},{\"alignmentgroup\":\"True\",\"hovertemplate\":\"Region=%{x}<br>Date= 31-07-2019<br>Estimated Unemployment Rate=%{y}<extra></extra>\",\"legendgroup\":\"Urban\",\"marker\":{\"color\":\"#00cc96\",\"pattern\":{\"shape\":\"\"}},\"name\":\"Urban\",\"offsetgroup\":\"Urban\",\"orientation\":\"v\",\"showlegend\":true,\"textposition\":\"auto\",\"x\":[\"Urban\",\"Urban\",\"Urban\",\"Urban\",\"Urban\",\"Urban\",\"Urban\",\"Urban\",\"Urban\",\"Urban\",\"Urban\",\"Urban\",\"Urban\",\"Urban\",\"Urban\",\"Urban\",\"Urban\",\"Urban\",\"Urban\",\"Urban\",\"Urban\",\"Urban\",\"Urban\",\"Urban\",\"Urban\",\"Urban\",\"Urban\",\"Urban\"],\"xaxis\":\"x\",\"y\":[5.64,3.21,16.41,21.8,8.17,14.68,12.28,5.15,25.45,21.51,21.55,15.67,2.29,7.58,7.38,6.35,4.43,1.78,0.0,11.61,11.67,2.56,3.18,3.73,25.81,11.8,6.94,7.91],\"yaxis\":\"y\",\"type\":\"bar\"}],\"name\":\" 31-07-2019\"},{\"data\":[{\"alignmentgroup\":\"True\",\"hovertemplate\":\"Region=%{x}<br>Date= 31-08-2019<br>Estimated Unemployment Rate=%{y}<extra></extra>\",\"legendgroup\":\"Rural\",\"marker\":{\"color\":\"#636efa\",\"pattern\":{\"shape\":\"\"}},\"name\":\"Rural\",\"offsetgroup\":\"Rural\",\"orientation\":\"v\",\"showlegend\":true,\"textposition\":\"auto\",\"x\":[\"Rural\",\"Rural\",\"Rural\",\"Rural\",\"Rural\",\"Rural\",\"Rural\",\"Rural\",\"Rural\",\"Rural\",\"Rural\",\"Rural\",\"Rural\",\"Rural\",\"Rural\",\"Rural\",\"Rural\",\"Rural\",\"Rural\",\"Rural\",\"Rural\",\"Rural\",\"Rural\",\"Rural\",\"Rural\",\"Rural\"],\"xaxis\":\"x\",\"y\":[3.32,5.79,11.0,4.64,17.18,1.98,3.7,30.94,18.56,11.32,12.06,0.37,10.32,4.94,3.76,0.52,3.68,4.85,6.69,12.5,2.91,1.4,25.49,11.47,6.11,5.58],\"yaxis\":\"y\",\"type\":\"bar\"},{\"alignmentgroup\":\"True\",\"hovertemplate\":\"Region=%{x}<br>Date= 31-08-2019<br>Estimated Unemployment Rate=%{y}<extra></extra>\",\"legendgroup\":\"Urban\",\"marker\":{\"color\":\"#00cc96\",\"pattern\":{\"shape\":\"\"}},\"name\":\"Urban\",\"offsetgroup\":\"Urban\",\"orientation\":\"v\",\"showlegend\":true,\"textposition\":\"auto\",\"x\":[\"Urban\",\"Urban\",\"Urban\",\"Urban\",\"Urban\",\"Urban\",\"Urban\",\"Urban\",\"Urban\",\"Urban\",\"Urban\",\"Urban\",\"Urban\",\"Urban\",\"Urban\",\"Urban\",\"Urban\",\"Urban\",\"Urban\",\"Urban\",\"Urban\",\"Urban\",\"Urban\",\"Urban\",\"Urban\",\"Urban\",\"Urban\"],\"xaxis\":\"x\",\"y\":[4.61,10.39,17.66,9.52,6.29,13.52,4.9,4.2,24.19,24.48,20.25,1.27,7.69,6.82,7.57,5.8,3.5,8.95,11.99,14.71,4.82,9.53,4.19,33.45,14.73,7.43,7.27],\"yaxis\":\"y\",\"type\":\"bar\"}],\"name\":\" 31-08-2019\"},{\"data\":[{\"alignmentgroup\":\"True\",\"hovertemplate\":\"Region=%{x}<br>Date= 30-09-2019<br>Estimated Unemployment Rate=%{y}<extra></extra>\",\"legendgroup\":\"Rural\",\"marker\":{\"color\":\"#636efa\",\"pattern\":{\"shape\":\"\"}},\"name\":\"Rural\",\"offsetgroup\":\"Rural\",\"orientation\":\"v\",\"showlegend\":true,\"textposition\":\"auto\",\"x\":[\"Rural\",\"Rural\",\"Rural\",\"Rural\",\"Rural\",\"Rural\",\"Rural\",\"Rural\",\"Rural\",\"Rural\",\"Rural\",\"Rural\",\"Rural\",\"Rural\",\"Rural\",\"Rural\",\"Rural\",\"Rural\",\"Rural\",\"Rural\",\"Rural\",\"Rural\",\"Rural\",\"Rural\",\"Rural\"],\"xaxis\":\"x\",\"y\":[5.17,4.46,8.87,8.33,12.5,3.61,6.29,16.36,15.98,7.12,3.2,5.35,3.08,4.4,0.24,4.31,0.0,8.59,5.45,1.71,5.49,30.23,6.45,3.47,5.26],\"yaxis\":\"y\",\"type\":\"bar\"},{\"alignmentgroup\":\"True\",\"hovertemplate\":\"Region=%{x}<br>Date= 30-09-2019<br>Estimated Unemployment Rate=%{y}<extra></extra>\",\"legendgroup\":\"Urban\",\"marker\":{\"color\":\"#00cc96\",\"pattern\":{\"shape\":\"\"}},\"name\":\"Urban\",\"offsetgroup\":\"Urban\",\"orientation\":\"v\",\"showlegend\":true,\"textposition\":\"auto\",\"x\":[\"Urban\",\"Urban\",\"Urban\",\"Urban\",\"Urban\",\"Urban\",\"Urban\",\"Urban\",\"Urban\",\"Urban\",\"Urban\",\"Urban\",\"Urban\",\"Urban\",\"Urban\",\"Urban\",\"Urban\",\"Urban\",\"Urban\",\"Urban\",\"Urban\",\"Urban\",\"Urban\",\"Urban\",\"Urban\",\"Urban\",\"Urban\"],\"xaxis\":\"x\",\"y\":[6.01,9.26,20.46,20.14,9.46,20.59,3.16,5.96,26.84,12.0,21.16,3.57,5.52,7.0,7.6,5.3,3.78,1.22,15.69,12.63,4.81,1.86,6.19,33.57,13.58,9.62,7.79],\"yaxis\":\"y\",\"type\":\"bar\"}],\"name\":\" 30-09-2019\"},{\"data\":[{\"alignmentgroup\":\"True\",\"hovertemplate\":\"Region=%{x}<br>Date= 31-10-2019<br>Estimated Unemployment Rate=%{y}<extra></extra>\",\"legendgroup\":\"Rural\",\"marker\":{\"color\":\"#636efa\",\"pattern\":{\"shape\":\"\"}},\"name\":\"Rural\",\"offsetgroup\":\"Rural\",\"orientation\":\"v\",\"showlegend\":true,\"textposition\":\"auto\",\"x\":[\"Rural\",\"Rural\",\"Rural\",\"Rural\",\"Rural\",\"Rural\",\"Rural\",\"Rural\",\"Rural\",\"Rural\",\"Rural\",\"Rural\",\"Rural\",\"Rural\",\"Rural\",\"Rural\",\"Rural\",\"Rural\",\"Rural\",\"Rural\",\"Rural\",\"Rural\",\"Rural\",\"Rural\",\"Rural\",\"Rural\",\"Rural\"],\"xaxis\":\"x\",\"y\":[3.52,4.65,12.47,6.96,15.84,7.21,4.91,24.17,15.81,19.27,6.57,7.13,9.14,2.98,3.81,3.7,4.28,1.18,12.56,14.66,5.48,1.46,7.29,27.54,10.18,4.83,6.78],\"yaxis\":\"y\",\"type\":\"bar\"},{\"alignmentgroup\":\"True\",\"hovertemplate\":\"Region=%{x}<br>Date= 31-10-2019<br>Estimated Unemployment Rate=%{y}<extra></extra>\",\"legendgroup\":\"Urban\",\"marker\":{\"color\":\"#00cc96\",\"pattern\":{\"shape\":\"\"}},\"name\":\"Urban\",\"offsetgroup\":\"Urban\",\"orientation\":\"v\",\"showlegend\":true,\"textposition\":\"auto\",\"x\":[\"Urban\",\"Urban\",\"Urban\",\"Urban\",\"Urban\",\"Urban\",\"Urban\",\"Urban\",\"Urban\",\"Urban\",\"Urban\",\"Urban\",\"Urban\",\"Urban\",\"Urban\",\"Urban\",\"Urban\",\"Urban\",\"Urban\",\"Urban\",\"Urban\",\"Urban\",\"Urban\",\"Urban\",\"Urban\",\"Urban\",\"Urban\",\"Urban\"],\"xaxis\":\"x\",\"y\":[4.7,11.17,14.06,13.99,10.27,12.41,12.31,5.45,21.04,23.77,24.06,19.05,3.87,5.35,4.4,7.51,7.2,4.5,1.17,13.75,13.02,9.68,1.13,6.74,26.67,10.35,4.72,7.83],\"yaxis\":\"y\",\"type\":\"bar\"}],\"name\":\" 31-10-2019\"},{\"data\":[{\"alignmentgroup\":\"True\",\"hovertemplate\":\"Region=%{x}<br>Date= 30-11-2019<br>Estimated Unemployment Rate=%{y}<extra></extra>\",\"legendgroup\":\"Rural\",\"marker\":{\"color\":\"#636efa\",\"pattern\":{\"shape\":\"\"}},\"name\":\"Rural\",\"offsetgroup\":\"Rural\",\"orientation\":\"v\",\"showlegend\":true,\"textposition\":\"auto\",\"x\":[\"Rural\",\"Rural\",\"Rural\",\"Rural\",\"Rural\",\"Rural\",\"Rural\",\"Rural\",\"Rural\",\"Rural\",\"Rural\",\"Rural\",\"Rural\",\"Rural\",\"Rural\",\"Rural\",\"Rural\",\"Rural\",\"Rural\",\"Rural\",\"Rural\",\"Rural\",\"Rural\",\"Rural\",\"Rural\",\"Rural\",\"Rural\"],\"xaxis\":\"x\",\"y\":[4.12,4.66,12.4,2.77,11.11,23.71,4.68,16.59,22.86,14.73,8.07,1.19,5.0,2.72,3.68,1.5,4.72,0.0,7.07,10.47,13.11,2.46,6.47,25.25,6.94,5.56,5.83],\"yaxis\":\"y\",\"type\":\"bar\"},{\"alignmentgroup\":\"True\",\"hovertemplate\":\"Region=%{x}<br>Date= 30-11-2019<br>Estimated Unemployment Rate=%{y}<extra></extra>\",\"legendgroup\":\"Urban\",\"marker\":{\"color\":\"#00cc96\",\"pattern\":{\"shape\":\"\"}},\"name\":\"Urban\",\"offsetgroup\":\"Urban\",\"orientation\":\"v\",\"showlegend\":true,\"textposition\":\"auto\",\"x\":[\"Urban\",\"Urban\",\"Urban\",\"Urban\",\"Urban\",\"Urban\",\"Urban\",\"Urban\",\"Urban\",\"Urban\",\"Urban\",\"Urban\",\"Urban\",\"Urban\",\"Urban\",\"Urban\",\"Urban\",\"Urban\",\"Urban\",\"Urban\",\"Urban\",\"Urban\",\"Urban\",\"Urban\",\"Urban\",\"Urban\",\"Urban\",\"Urban\"],\"xaxis\":\"x\",\"y\":[7.54,6.31,17.62,22.05,8.32,16.11,25.2,7.53,27.06,27.27,14.29,17.34,3.44,6.71,6.06,7.6,3.02,2.23,1.37,10.39,14.3,4.04,2.65,5.23,27.15,11.31,6.34,6.61],\"yaxis\":\"y\",\"type\":\"bar\"}],\"name\":\" 30-11-2019\"},{\"data\":[{\"alignmentgroup\":\"True\",\"hovertemplate\":\"Region=%{x}<br>Date= 31-12-2019<br>Estimated Unemployment Rate=%{y}<extra></extra>\",\"legendgroup\":\"Rural\",\"marker\":{\"color\":\"#636efa\",\"pattern\":{\"shape\":\"\"}},\"name\":\"Rural\",\"offsetgroup\":\"Rural\",\"orientation\":\"v\",\"showlegend\":true,\"textposition\":\"auto\",\"x\":[\"Rural\",\"Rural\",\"Rural\",\"Rural\",\"Rural\",\"Rural\",\"Rural\",\"Rural\",\"Rural\",\"Rural\",\"Rural\",\"Rural\",\"Rural\",\"Rural\",\"Rural\",\"Rural\",\"Rural\",\"Rural\",\"Rural\",\"Rural\",\"Rural\",\"Rural\",\"Rural\",\"Rural\",\"Rural\"],\"xaxis\":\"x\",\"y\":[4.38,10.16,6.11,16.97,3.54,3.46,29.56,19.46,15.15,0.41,10.77,2.94,3.03,1.8,4.67,1.99,6.13,13.96,1.0,3.73,1.35,26.53,8.43,4.52,5.79],\"yaxis\":\"y\",\"type\":\"bar\"},{\"alignmentgroup\":\"True\",\"hovertemplate\":\"Region=%{x}<br>Date= 31-12-2019<br>Estimated Unemployment Rate=%{y}<extra></extra>\",\"legendgroup\":\"Urban\",\"marker\":{\"color\":\"#00cc96\",\"pattern\":{\"shape\":\"\"}},\"name\":\"Urban\",\"offsetgroup\":\"Urban\",\"orientation\":\"v\",\"showlegend\":true,\"textposition\":\"auto\",\"x\":[\"Urban\",\"Urban\",\"Urban\",\"Urban\",\"Urban\",\"Urban\",\"Urban\",\"Urban\",\"Urban\",\"Urban\",\"Urban\",\"Urban\",\"Urban\",\"Urban\",\"Urban\",\"Urban\",\"Urban\",\"Urban\",\"Urban\",\"Urban\",\"Urban\",\"Urban\",\"Urban\",\"Urban\",\"Urban\",\"Urban\",\"Urban\",\"Urban\"],\"xaxis\":\"x\",\"y\":[7.88,5.02,14.91,8.33,3.57,11.07,16.22,5.71,23.65,25.32,7.02,22.01,1.56,7.31,6.2,7.83,5.21,3.36,5.21,11.97,18.04,7.37,8.05,4.22,33.48,12.37,7.39,7.24],\"yaxis\":\"y\",\"type\":\"bar\"}],\"name\":\" 31-12-2019\"},{\"data\":[{\"alignmentgroup\":\"True\",\"hovertemplate\":\"Region=%{x}<br>Date= 31-01-2020<br>Estimated Unemployment Rate=%{y}<extra></extra>\",\"legendgroup\":\"Rural\",\"marker\":{\"color\":\"#636efa\",\"pattern\":{\"shape\":\"\"}},\"name\":\"Rural\",\"offsetgroup\":\"Rural\",\"orientation\":\"v\",\"showlegend\":true,\"textposition\":\"auto\",\"x\":[\"Rural\",\"Rural\",\"Rural\",\"Rural\",\"Rural\",\"Rural\",\"Rural\",\"Rural\",\"Rural\",\"Rural\",\"Rural\",\"Rural\",\"Rural\",\"Rural\",\"Rural\",\"Rural\",\"Rural\",\"Rural\",\"Rural\",\"Rural\",\"Rural\",\"Rural\",\"Rural\",\"Rural\",\"Rural\",\"Rural\"],\"xaxis\":\"x\",\"y\":[4.84,4.29,9.13,9.89,13.48,5.38,5.35,16.21,16.67,22.19,6.16,2.57,4.11,3.66,3.8,0.97,1.81,0.58,9.69,8.0,1.18,5.02,31.91,6.06,4.17,6.79],\"yaxis\":\"y\",\"type\":\"bar\"},{\"alignmentgroup\":\"True\",\"hovertemplate\":\"Region=%{x}<br>Date= 31-01-2020<br>Estimated Unemployment Rate=%{y}<extra></extra>\",\"legendgroup\":\"Urban\",\"marker\":{\"color\":\"#00cc96\",\"pattern\":{\"shape\":\"\"}},\"name\":\"Urban\",\"offsetgroup\":\"Urban\",\"orientation\":\"v\",\"showlegend\":true,\"textposition\":\"auto\",\"x\":[\"Urban\",\"Urban\",\"Urban\",\"Urban\",\"Urban\",\"Urban\",\"Urban\",\"Urban\",\"Urban\",\"Urban\",\"Urban\",\"Urban\",\"Urban\",\"Urban\",\"Urban\",\"Urban\",\"Urban\",\"Urban\",\"Urban\",\"Urban\",\"Urban\",\"Urban\",\"Urban\",\"Urban\",\"Urban\",\"Urban\",\"Urban\"],\"xaxis\":\"x\",\"y\":[7.11,7.24,20.69,20.0,9.01,22.45,10.92,5.82,27.24,18.15,18.54,22.96,3.31,6.65,5.17,6.67,4.76,2.28,0.57,13.68,18.82,2.05,6.49,34.37,12.34,8.92,7.27],\"yaxis\":\"y\",\"type\":\"bar\"}],\"name\":\" 31-01-2020\"},{\"data\":[{\"alignmentgroup\":\"True\",\"hovertemplate\":\"Region=%{x}<br>Date= 29-02-2020<br>Estimated Unemployment Rate=%{y}<extra></extra>\",\"legendgroup\":\"Rural\",\"marker\":{\"color\":\"#636efa\",\"pattern\":{\"shape\":\"\"}},\"name\":\"Rural\",\"offsetgroup\":\"Rural\",\"orientation\":\"v\",\"showlegend\":true,\"textposition\":\"auto\",\"x\":[\"Rural\",\"Rural\",\"Rural\",\"Rural\",\"Rural\",\"Rural\",\"Rural\",\"Rural\",\"Rural\",\"Rural\",\"Rural\",\"Rural\",\"Rural\",\"Rural\",\"Rural\",\"Rural\",\"Rural\",\"Rural\",\"Rural\",\"Rural\",\"Rural\",\"Rural\",\"Rural\",\"Rural\",\"Rural\",\"Rural\"],\"xaxis\":\"x\",\"y\":[5.91,3.26,9.61,7.89,13.81,0.0,6.64,27.19,15.42,21.23,9.06,4.11,8.91,4.42,4.24,2.76,3.31,1.74,10.41,14.48,1.17,9.02,26.22,8.12,4.85,3.78],\"yaxis\":\"y\",\"type\":\"bar\"},{\"alignmentgroup\":\"True\",\"hovertemplate\":\"Region=%{x}<br>Date= 29-02-2020<br>Estimated Unemployment Rate=%{y}<extra></extra>\",\"legendgroup\":\"Urban\",\"marker\":{\"color\":\"#00cc96\",\"pattern\":{\"shape\":\"\"}},\"name\":\"Urban\",\"offsetgroup\":\"Urban\",\"orientation\":\"v\",\"showlegend\":true,\"textposition\":\"auto\",\"x\":[\"Urban\",\"Urban\",\"Urban\",\"Urban\",\"Urban\",\"Urban\",\"Urban\",\"Urban\",\"Urban\",\"Urban\",\"Urban\",\"Urban\",\"Urban\",\"Urban\",\"Urban\",\"Urban\",\"Urban\",\"Urban\",\"Urban\",\"Urban\",\"Urban\",\"Urban\",\"Urban\",\"Urban\",\"Urban\",\"Urban\",\"Urban\"],\"xaxis\":\"x\",\"y\":[5.66,9.98,15.11,16.67,9.79,14.86,4.31,6.04,23.29,27.31,19.86,19.67,2.88,6.08,4.96,5.34,7.37,2.19,1.78,11.99,17.02,3.31,6.74,33.88,11.65,5.28,7.55],\"yaxis\":\"y\",\"type\":\"bar\"}],\"name\":\" 29-02-2020\"},{\"data\":[{\"alignmentgroup\":\"True\",\"hovertemplate\":\"Region=%{x}<br>Date= 31-03-2020<br>Estimated Unemployment Rate=%{y}<extra></extra>\",\"legendgroup\":\"Rural\",\"marker\":{\"color\":\"#636efa\",\"pattern\":{\"shape\":\"\"}},\"name\":\"Rural\",\"offsetgroup\":\"Rural\",\"orientation\":\"v\",\"showlegend\":true,\"textposition\":\"auto\",\"x\":[\"Rural\",\"Rural\",\"Rural\",\"Rural\",\"Rural\",\"Rural\",\"Rural\",\"Rural\",\"Rural\",\"Rural\",\"Rural\",\"Rural\",\"Rural\",\"Rural\",\"Rural\",\"Rural\",\"Rural\",\"Rural\",\"Rural\",\"Rural\",\"Rural\",\"Rural\",\"Rural\",\"Rural\"],\"xaxis\":\"x\",\"y\":[4.06,3.77,15.39,7.31,15.18,7.59,23.92,17.71,16.0,5.01,2.39,8.85,1.19,5.38,1.28,15.09,2.31,10.51,9.47,6.36,5.63,31.61,9.37,7.02],\"yaxis\":\"y\",\"type\":\"bar\"},{\"alignmentgroup\":\"True\",\"hovertemplate\":\"Region=%{x}<br>Date= 31-03-2020<br>Estimated Unemployment Rate=%{y}<extra></extra>\",\"legendgroup\":\"Urban\",\"marker\":{\"color\":\"#00cc96\",\"pattern\":{\"shape\":\"\"}},\"name\":\"Urban\",\"offsetgroup\":\"Urban\",\"orientation\":\"v\",\"showlegend\":true,\"textposition\":\"auto\",\"x\":[\"Urban\",\"Urban\",\"Urban\",\"Urban\",\"Urban\",\"Urban\",\"Urban\",\"Urban\",\"Urban\",\"Urban\",\"Urban\",\"Urban\",\"Urban\",\"Urban\",\"Urban\",\"Urban\",\"Urban\",\"Urban\",\"Urban\",\"Urban\",\"Urban\",\"Urban\",\"Urban\",\"Urban\",\"Urban\",\"Urban\",\"Urban\",\"Urban\"],\"xaxis\":\"x\",\"y\":[9.88,10.34,15.73,21.43,8.21,17.09,4.76,5.39,27.14,26.44,14.29,16.4,4.92,9.14,4.8,6.34,2.8,3.96,0.62,9.97,18.54,20.45,6.46,6.1,25.69,12.32,8.15,6.67],\"yaxis\":\"y\",\"type\":\"bar\"}],\"name\":\" 31-03-2020\"},{\"data\":[{\"alignmentgroup\":\"True\",\"hovertemplate\":\"Region=%{x}<br>Date= 30-04-2020<br>Estimated Unemployment Rate=%{y}<extra></extra>\",\"legendgroup\":\"Rural\",\"marker\":{\"color\":\"#636efa\",\"pattern\":{\"shape\":\"\"}},\"name\":\"Rural\",\"offsetgroup\":\"Rural\",\"orientation\":\"v\",\"showlegend\":true,\"textposition\":\"auto\",\"x\":[\"Rural\",\"Rural\",\"Rural\",\"Rural\",\"Rural\",\"Rural\",\"Rural\",\"Rural\",\"Rural\",\"Rural\",\"Rural\",\"Rural\",\"Rural\",\"Rural\",\"Rural\",\"Rural\",\"Rural\",\"Rural\",\"Rural\",\"Rural\",\"Rural\",\"Rural\",\"Rural\",\"Rural\",\"Rural\"],\"xaxis\":\"x\",\"y\":[16.29,45.09,0.0,20.69,15.91,12.0,41.61,2.13,41.72,33.17,10.71,12.5,25.28,8.38,24.48,74.51,3.69,12.25,0.0,53.19,4.51,43.64,19.92,3.66,18.32],\"yaxis\":\"y\",\"type\":\"bar\"},{\"alignmentgroup\":\"True\",\"hovertemplate\":\"Region=%{x}<br>Date= 30-04-2020<br>Estimated Unemployment Rate=%{y}<extra></extra>\",\"legendgroup\":\"Urban\",\"marker\":{\"color\":\"#00cc96\",\"pattern\":{\"shape\":\"\"}},\"name\":\"Urban\",\"offsetgroup\":\"Urban\",\"orientation\":\"v\",\"showlegend\":true,\"textposition\":\"auto\",\"x\":[\"Urban\",\"Urban\",\"Urban\",\"Urban\",\"Urban\",\"Urban\",\"Urban\",\"Urban\",\"Urban\",\"Urban\",\"Urban\",\"Urban\",\"Urban\",\"Urban\",\"Urban\",\"Urban\",\"Urban\",\"Urban\",\"Urban\",\"Urban\",\"Urban\",\"Urban\",\"Urban\",\"Urban\",\"Urban\",\"Urban\"],\"xaxis\":\"x\",\"y\":[32.3,8.37,58.77,20.13,16.51,11.76,25.94,46.89,2.7,61.48,25.12,21.43,11.94,14.99,17.39,20.5,76.74,1.13,35.53,5.77,45.55,10.5,34.88,26.94,13.18,15.63],\"yaxis\":\"y\",\"type\":\"bar\"}],\"name\":\" 30-04-2020\"},{\"data\":[{\"alignmentgroup\":\"True\",\"hovertemplate\":\"Region=%{x}<br>Date= 31-05-2020<br>Estimated Unemployment Rate=%{y}<extra></extra>\",\"legendgroup\":\"Rural\",\"marker\":{\"color\":\"#636efa\",\"pattern\":{\"shape\":\"\"}},\"name\":\"Rural\",\"offsetgroup\":\"Rural\",\"orientation\":\"v\",\"showlegend\":true,\"textposition\":\"auto\",\"x\":[\"Rural\",\"Rural\",\"Rural\",\"Rural\",\"Rural\",\"Rural\",\"Rural\",\"Rural\",\"Rural\",\"Rural\",\"Rural\",\"Rural\",\"Rural\",\"Rural\",\"Rural\",\"Rural\",\"Rural\",\"Rural\",\"Rural\",\"Rural\",\"Rural\",\"Rural\",\"Rural\",\"Rural\",\"Rural\"],\"xaxis\":\"x\",\"y\":[14.46,9.38,47.26,7.64,22.76,20.0,14.58,34.22,25.64,2.22,55.1,23.72,23.38,22.46,16.89,3.73,9.45,40.59,10.45,38.73,34.01,14.71,16.89,3.57,18.43],\"yaxis\":\"y\",\"type\":\"bar\"},{\"alignmentgroup\":\"True\",\"hovertemplate\":\"Region=%{x}<br>Date= 31-05-2020<br>Estimated Unemployment Rate=%{y}<extra></extra>\",\"legendgroup\":\"Urban\",\"marker\":{\"color\":\"#00cc96\",\"pattern\":{\"shape\":\"\"}},\"name\":\"Urban\",\"offsetgroup\":\"Urban\",\"orientation\":\"v\",\"showlegend\":true,\"textposition\":\"auto\",\"x\":[\"Urban\",\"Urban\",\"Urban\",\"Urban\",\"Urban\",\"Urban\",\"Urban\",\"Urban\",\"Urban\",\"Urban\",\"Urban\",\"Urban\",\"Urban\",\"Urban\",\"Urban\",\"Urban\",\"Urban\",\"Urban\",\"Urban\",\"Urban\",\"Urban\",\"Urban\",\"Urban\",\"Urban\",\"Urban\",\"Urban\"],\"xaxis\":\"x\",\"y\":[24.91,10.77,37.87,24.1,45.78,11.62,38.46,50.0,12.96,70.17,15.88,30.28,40.49,15.92,14.58,10.0,75.0,20.54,25.35,19.75,25.95,36.57,16.78,32.06,17.36,15.22],\"yaxis\":\"y\",\"type\":\"bar\"}],\"name\":\" 31-05-2020\"},{\"data\":[{\"alignmentgroup\":\"True\",\"hovertemplate\":\"Region=%{x}<br>Date= 30-06-2020<br>Estimated Unemployment Rate=%{y}<extra></extra>\",\"legendgroup\":\"Rural\",\"marker\":{\"color\":\"#636efa\",\"pattern\":{\"shape\":\"\"}},\"name\":\"Rural\",\"offsetgroup\":\"Rural\",\"orientation\":\"v\",\"showlegend\":true,\"textposition\":\"auto\",\"x\":[\"Rural\",\"Rural\",\"Rural\",\"Rural\",\"Rural\",\"Rural\",\"Rural\",\"Rural\",\"Rural\",\"Rural\",\"Rural\",\"Rural\",\"Rural\",\"Rural\",\"Rural\",\"Rural\",\"Rural\",\"Rural\",\"Rural\",\"Rural\",\"Rural\",\"Rural\",\"Rural\",\"Rural\",\"Rural\"],\"xaxis\":\"x\",\"y\":[0.85,0.0,20.49,10.14,21.14,1.41,35.57,1.12,18.97,21.53,10.92,27.66,6.46,9.4,1.35,4.59,20.0,13.86,5.81,2.06,19.3,18.84,8.51,10.71,4.94],\"yaxis\":\"y\",\"type\":\"bar\"},{\"alignmentgroup\":\"True\",\"hovertemplate\":\"Region=%{x}<br>Date= 30-06-2020<br>Estimated Unemployment Rate=%{y}<extra></extra>\",\"legendgroup\":\"Urban\",\"marker\":{\"color\":\"#00cc96\",\"pattern\":{\"shape\":\"\"}},\"name\":\"Urban\",\"offsetgroup\":\"Urban\",\"orientation\":\"v\",\"showlegend\":true,\"textposition\":\"auto\",\"x\":[\"Urban\",\"Urban\",\"Urban\",\"Urban\",\"Urban\",\"Urban\",\"Urban\",\"Urban\",\"Urban\",\"Urban\",\"Urban\",\"Urban\",\"Urban\",\"Urban\",\"Urban\",\"Urban\",\"Urban\",\"Urban\",\"Urban\",\"Urban\",\"Urban\",\"Urban\",\"Urban\",\"Urban\",\"Urban\"],\"xaxis\":\"x\",\"y\":[5.86,3.42,12.45,7.22,27.07,18.11,4.54,29.41,10.81,19.38,6.12,12.17,12.72,10.01,2.18,4.55,10.55,13.04,2.63,24.93,6.92,27.47,13.05,5.08,9.86],\"yaxis\":\"y\",\"type\":\"bar\"}],\"name\":\" 30-06-2020\"}]);\n",
       "                        }).then(function(){\n",
       "                            \n",
       "var gd = document.getElementById('f5b590e7-2bd2-4b16-a0f9-fe03378a99e9');\n",
       "var x = new MutationObserver(function (mutations, observer) {{\n",
       "        var display = window.getComputedStyle(gd).display;\n",
       "        if (!display || display === 'none') {{\n",
       "            console.log([gd, 'removed!']);\n",
       "            Plotly.purge(gd);\n",
       "            observer.disconnect();\n",
       "        }}\n",
       "}});\n",
       "\n",
       "// Listen for the removal of the full notebook cells\n",
       "var notebookContainer = gd.closest('#notebook-container');\n",
       "if (notebookContainer) {{\n",
       "    x.observe(notebookContainer, {childList: true});\n",
       "}}\n",
       "\n",
       "// Listen for the clearing of the current output cell\n",
       "var outputEl = gd.closest('.output');\n",
       "if (outputEl) {{\n",
       "    x.observe(outputEl, {childList: true});\n",
       "}}\n",
       "\n",
       "                        })                };                });            </script>        </div>"
      ]
     },
     "metadata": {},
     "output_type": "display_data"
    }
   ],
   "source": [
    "fg = px.bar(df,x='Region',y='Estimated Unemployment Rate',color='Region',title='Unemployment rate',animation_frame='Date',template='plotly')\n",
    "fg.update_layout(xaxis={'categoryorder':'total descending'})\n",
    "fg.show()"
   ]
  },
  {
   "cell_type": "code",
   "execution_count": null,
   "id": "4a33ec13",
   "metadata": {},
   "outputs": [],
   "source": []
  }
 ],
 "metadata": {
  "kernelspec": {
   "display_name": "Python 3 (ipykernel)",
   "language": "python",
   "name": "python3"
  },
  "language_info": {
   "codemirror_mode": {
    "name": "ipython",
    "version": 3
   },
   "file_extension": ".py",
   "mimetype": "text/x-python",
   "name": "python",
   "nbconvert_exporter": "python",
   "pygments_lexer": "ipython3",
   "version": "3.9.13"
  }
 },
 "nbformat": 4,
 "nbformat_minor": 5
}
